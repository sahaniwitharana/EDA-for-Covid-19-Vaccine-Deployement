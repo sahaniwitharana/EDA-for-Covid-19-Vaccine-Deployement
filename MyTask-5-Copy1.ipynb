{
 "cells": [
  {
   "cell_type": "markdown",
   "id": "88948c79",
   "metadata": {},
   "source": [
    "#### Name :                   Sahani Dilmini Witharana "
   ]
  },
  {
   "cell_type": "markdown",
   "id": "ee51a53b",
   "metadata": {},
   "source": [
    "\n",
    "\n",
    "# <u> <p><font color=\"crimson\"> Exploring and Analysing how the Covid-19 Vaccine Deployement across the world significantly affected for the number of cases and deaths.</font></u>"
   ]
  },
  {
   "cell_type": "markdown",
   "id": "df610a6b",
   "metadata": {},
   "source": [
    "<img src=\"COVID-vaccine-1200x633.jpg\" width=400 height=400 />"
   ]
  },
  {
   "cell_type": "markdown",
   "id": "f908017d",
   "metadata": {},
   "source": [
    "## Table of Contents \n",
    "\n",
    "\n",
    "* [1. Introduction](#chapter1)\n",
    "* [2. Objectives](#chapter2)\n",
    "* [3. Task A - EDA](#chapter3)\n",
    "    * [3.1.  Analysis between top 5 countries ranked for vaccination against Covid 19 and lowest 5 countries having vaccination rates](#section_3_1)\n",
    "  \n",
    "        \n"
   ]
  },
  {
   "cell_type": "markdown",
   "id": "2124be3b",
   "metadata": {},
   "source": [
    " ## <u><p><font color=\"crimson\">Introduction </u> <a class=\"anchor\" id=\"chapter1\"></a>\n",
    "\n",
    "\n",
    "<p><b><font color=\"navy\">\n",
    "Coronavirus disease (COVID-19) is an infectious disease caused by the SARS-CoV-2 virus. COVID-19 affects different people in different ways. Most infected people will develop mild to moderate illness and recover without hospitalization. However, some will become seriously ill and require medical attention.\n",
    "\n",
    "    \n",
    "Getting vaccinated against COVID-19 can lower your risk of getting and spreading the virus that causes COVID-19. Vaccines can also help prevent serious illness and death. These give instructions to cells in your body to create an immune response. This response helps protect you from getting sick with COVID-19 in the future. <br/>\n",
    "\n",
    "    \n",
    "<br/>\n",
    "According to \"The New York Times\" More than 4.99 billion people worldwide have received a dose of a Covid-19 vaccine, equal to about 65.1 percent of the world population. The data for selecting countries acording to the vaccination raking is compiled from government sources by the Our World in Data project at the University of Oxford. A vaccinated person refers to someone who has received at least one dose of a vaccine, and a fully vaccinated person has received either a single-dose vaccine or both doses of a two-dose vaccine, such as the Pfizer-BioNTech and Moderna shots.\n",
    "    \n",
    "\n"
   ]
  },
  {
   "cell_type": "markdown",
   "id": "2611272d",
   "metadata": {},
   "source": [
    "## <u><p><font color=\"crimson\"> Objectives</u> <a class=\"anchor\" id=\"chapter2\"></a>\n",
    "\n",
    " <p><b><font color=\"navy\">\n",
    "It is reported that rich countries are hoarding more Covid vaccines than needed for boosters while less wealthy countries are relying on a vaccine-sharing arrangement called Covax, which originally aimed to provide two billion doses by the end of 2021 but repeatedly cut its forecasts because of production problems, export bans and vaccine hoarding by wealthy nations.\n",
    "\n",
    "This has led to a striking divide between regions of the world. Africa has the slowest vaccination rate of any continent, with just 18.5 percent of the population receiving at least one dose of a vaccine.\n",
    "<br/><br/>\n",
    " \n",
    "Therefore it is insightful to analyse and observe that whether \"Fully Vaccinated Percentage of the Country\"( Vaccination Ranking list was taken from NewYorkTimes - [ Reference Link ](https://www.nytimes.com/interactive/2021/world/covid-vaccinations-tracker.html)) has affected to the number of cases, deaths and also whether there is any relation to covid symptoms.\n",
    "\n",
    "Out of the ranked list, top 5 vaccinated countries and least 5 fully vaccinated countries are taken to analyse the confirmed cases and confirmed deaths in them.\n",
    "\n"
   ]
  },
  {
   "cell_type": "markdown",
   "id": "333ffb9f",
   "metadata": {},
   "source": [
    "## <u><p><font color=\"crimson\">Task A - EDA</u> <a class=\"anchor\" id=\"chapter3\"></a>\n",
    "\n"
   ]
  },
  {
   "cell_type": "code",
   "execution_count": 1,
   "id": "d210efe5",
   "metadata": {},
   "outputs": [],
   "source": [
    "#importing libraries\n",
    "import pandas as pd\n",
    "import numpy as np\n",
    "import matplotlib.pyplot as plt"
   ]
  },
  {
   "cell_type": "code",
   "execution_count": 2,
   "id": "cd207a63",
   "metadata": {},
   "outputs": [
    {
     "name": "stdout",
     "output_type": "stream",
     "text": [
      "<class 'pandas.core.frame.DataFrame'>\n",
      "RangeIndex: 279 entries, 0 to 278\n",
      "Columns: 537 entries, Province/State to 07/07/2021\n",
      "dtypes: float64(2), int64(533), object(2)\n",
      "memory usage: 1.1+ MB\n"
     ]
    },
    {
     "data": {
      "text/html": [
       "<div>\n",
       "<style scoped>\n",
       "    .dataframe tbody tr th:only-of-type {\n",
       "        vertical-align: middle;\n",
       "    }\n",
       "\n",
       "    .dataframe tbody tr th {\n",
       "        vertical-align: top;\n",
       "    }\n",
       "\n",
       "    .dataframe thead th {\n",
       "        text-align: right;\n",
       "    }\n",
       "</style>\n",
       "<table border=\"1\" class=\"dataframe\">\n",
       "  <thead>\n",
       "    <tr style=\"text-align: right;\">\n",
       "      <th></th>\n",
       "      <th>Province/State</th>\n",
       "      <th>Country/Region</th>\n",
       "      <th>Lat</th>\n",
       "      <th>Long</th>\n",
       "      <th>1/22/20</th>\n",
       "      <th>1/23/20</th>\n",
       "      <th>1/24/20</th>\n",
       "      <th>1/25/20</th>\n",
       "      <th>1/26/20</th>\n",
       "      <th>1/27/20</th>\n",
       "      <th>...</th>\n",
       "      <th>6/28/21</th>\n",
       "      <th>6/29/21</th>\n",
       "      <th>6/30/21</th>\n",
       "      <th>07/01/2021</th>\n",
       "      <th>07/02/2021</th>\n",
       "      <th>07/03/2021</th>\n",
       "      <th>07/04/2021</th>\n",
       "      <th>07/05/2021</th>\n",
       "      <th>07/06/2021</th>\n",
       "      <th>07/07/2021</th>\n",
       "    </tr>\n",
       "  </thead>\n",
       "  <tbody>\n",
       "    <tr>\n",
       "      <th>0</th>\n",
       "      <td>NaN</td>\n",
       "      <td>Afghanistan</td>\n",
       "      <td>33.93911</td>\n",
       "      <td>67.709953</td>\n",
       "      <td>0</td>\n",
       "      <td>0</td>\n",
       "      <td>0</td>\n",
       "      <td>0</td>\n",
       "      <td>0</td>\n",
       "      <td>0</td>\n",
       "      <td>...</td>\n",
       "      <td>115751</td>\n",
       "      <td>117158</td>\n",
       "      <td>118659</td>\n",
       "      <td>120216</td>\n",
       "      <td>120216</td>\n",
       "      <td>120216</td>\n",
       "      <td>120216</td>\n",
       "      <td>125937</td>\n",
       "      <td>127464</td>\n",
       "      <td>129021</td>\n",
       "    </tr>\n",
       "    <tr>\n",
       "      <th>1</th>\n",
       "      <td>NaN</td>\n",
       "      <td>Albania</td>\n",
       "      <td>41.15330</td>\n",
       "      <td>20.168300</td>\n",
       "      <td>0</td>\n",
       "      <td>0</td>\n",
       "      <td>0</td>\n",
       "      <td>0</td>\n",
       "      <td>0</td>\n",
       "      <td>0</td>\n",
       "      <td>...</td>\n",
       "      <td>132513</td>\n",
       "      <td>132514</td>\n",
       "      <td>132521</td>\n",
       "      <td>132523</td>\n",
       "      <td>132526</td>\n",
       "      <td>132534</td>\n",
       "      <td>132535</td>\n",
       "      <td>132537</td>\n",
       "      <td>132544</td>\n",
       "      <td>132557</td>\n",
       "    </tr>\n",
       "    <tr>\n",
       "      <th>2</th>\n",
       "      <td>NaN</td>\n",
       "      <td>Algeria</td>\n",
       "      <td>28.03390</td>\n",
       "      <td>1.659600</td>\n",
       "      <td>0</td>\n",
       "      <td>0</td>\n",
       "      <td>0</td>\n",
       "      <td>0</td>\n",
       "      <td>0</td>\n",
       "      <td>0</td>\n",
       "      <td>...</td>\n",
       "      <td>138840</td>\n",
       "      <td>139229</td>\n",
       "      <td>139626</td>\n",
       "      <td>140075</td>\n",
       "      <td>140550</td>\n",
       "      <td>141007</td>\n",
       "      <td>141471</td>\n",
       "      <td>141966</td>\n",
       "      <td>142447</td>\n",
       "      <td>143032</td>\n",
       "    </tr>\n",
       "    <tr>\n",
       "      <th>3</th>\n",
       "      <td>NaN</td>\n",
       "      <td>Andorra</td>\n",
       "      <td>42.50630</td>\n",
       "      <td>1.521800</td>\n",
       "      <td>0</td>\n",
       "      <td>0</td>\n",
       "      <td>0</td>\n",
       "      <td>0</td>\n",
       "      <td>0</td>\n",
       "      <td>0</td>\n",
       "      <td>...</td>\n",
       "      <td>13882</td>\n",
       "      <td>13900</td>\n",
       "      <td>13911</td>\n",
       "      <td>13918</td>\n",
       "      <td>13918</td>\n",
       "      <td>13918</td>\n",
       "      <td>13918</td>\n",
       "      <td>13918</td>\n",
       "      <td>13991</td>\n",
       "      <td>14021</td>\n",
       "    </tr>\n",
       "    <tr>\n",
       "      <th>4</th>\n",
       "      <td>NaN</td>\n",
       "      <td>Angola</td>\n",
       "      <td>-11.20270</td>\n",
       "      <td>17.873900</td>\n",
       "      <td>0</td>\n",
       "      <td>0</td>\n",
       "      <td>0</td>\n",
       "      <td>0</td>\n",
       "      <td>0</td>\n",
       "      <td>0</td>\n",
       "      <td>...</td>\n",
       "      <td>38613</td>\n",
       "      <td>38682</td>\n",
       "      <td>38849</td>\n",
       "      <td>38965</td>\n",
       "      <td>39089</td>\n",
       "      <td>39172</td>\n",
       "      <td>39230</td>\n",
       "      <td>39300</td>\n",
       "      <td>39375</td>\n",
       "      <td>39491</td>\n",
       "    </tr>\n",
       "  </tbody>\n",
       "</table>\n",
       "<p>5 rows × 537 columns</p>\n",
       "</div>"
      ],
      "text/plain": [
       "  Province/State Country/Region       Lat       Long  1/22/20  1/23/20  \\\n",
       "0            NaN    Afghanistan  33.93911  67.709953        0        0   \n",
       "1            NaN        Albania  41.15330  20.168300        0        0   \n",
       "2            NaN        Algeria  28.03390   1.659600        0        0   \n",
       "3            NaN        Andorra  42.50630   1.521800        0        0   \n",
       "4            NaN         Angola -11.20270  17.873900        0        0   \n",
       "\n",
       "   1/24/20  1/25/20  1/26/20  1/27/20  ...  6/28/21  6/29/21  6/30/21  \\\n",
       "0        0        0        0        0  ...   115751   117158   118659   \n",
       "1        0        0        0        0  ...   132513   132514   132521   \n",
       "2        0        0        0        0  ...   138840   139229   139626   \n",
       "3        0        0        0        0  ...    13882    13900    13911   \n",
       "4        0        0        0        0  ...    38613    38682    38849   \n",
       "\n",
       "   07/01/2021  07/02/2021  07/03/2021  07/04/2021  07/05/2021  07/06/2021  \\\n",
       "0      120216      120216      120216      120216      125937      127464   \n",
       "1      132523      132526      132534      132535      132537      132544   \n",
       "2      140075      140550      141007      141471      141966      142447   \n",
       "3       13918       13918       13918       13918       13918       13991   \n",
       "4       38965       39089       39172       39230       39300       39375   \n",
       "\n",
       "   07/07/2021  \n",
       "0      129021  \n",
       "1      132557  \n",
       "2      143032  \n",
       "3       14021  \n",
       "4       39491  \n",
       "\n",
       "[5 rows x 537 columns]"
      ]
     },
     "execution_count": 2,
     "metadata": {},
     "output_type": "execute_result"
    }
   ],
   "source": [
    "#Reading Global Confirmed dataset\n",
    "GlobalConfirmed = pd.read_csv('confirmed_global.csv')\n",
    "GlobalConfirmed.info()\n",
    "GlobalConfirmed.head()\n"
   ]
  },
  {
   "cell_type": "code",
   "execution_count": 3,
   "id": "9b143e07",
   "metadata": {
    "scrolled": true
   },
   "outputs": [
    {
     "name": "stdout",
     "output_type": "stream",
     "text": [
      "<class 'pandas.core.frame.DataFrame'>\n",
      "RangeIndex: 279 entries, 0 to 278\n",
      "Columns: 537 entries, Province/State to 07/07/2021\n",
      "dtypes: float64(2), int64(533), object(2)\n",
      "memory usage: 1.1+ MB\n"
     ]
    },
    {
     "data": {
      "text/html": [
       "<div>\n",
       "<style scoped>\n",
       "    .dataframe tbody tr th:only-of-type {\n",
       "        vertical-align: middle;\n",
       "    }\n",
       "\n",
       "    .dataframe tbody tr th {\n",
       "        vertical-align: top;\n",
       "    }\n",
       "\n",
       "    .dataframe thead th {\n",
       "        text-align: right;\n",
       "    }\n",
       "</style>\n",
       "<table border=\"1\" class=\"dataframe\">\n",
       "  <thead>\n",
       "    <tr style=\"text-align: right;\">\n",
       "      <th></th>\n",
       "      <th>Province/State</th>\n",
       "      <th>Country/Region</th>\n",
       "      <th>Lat</th>\n",
       "      <th>Long</th>\n",
       "      <th>1/22/20</th>\n",
       "      <th>1/23/20</th>\n",
       "      <th>1/24/20</th>\n",
       "      <th>1/25/20</th>\n",
       "      <th>1/26/20</th>\n",
       "      <th>1/27/20</th>\n",
       "      <th>...</th>\n",
       "      <th>6/28/21</th>\n",
       "      <th>6/29/21</th>\n",
       "      <th>6/30/21</th>\n",
       "      <th>07/01/2021</th>\n",
       "      <th>07/02/2021</th>\n",
       "      <th>07/03/2021</th>\n",
       "      <th>07/04/2021</th>\n",
       "      <th>07/05/2021</th>\n",
       "      <th>07/06/2021</th>\n",
       "      <th>07/07/2021</th>\n",
       "    </tr>\n",
       "  </thead>\n",
       "  <tbody>\n",
       "    <tr>\n",
       "      <th>0</th>\n",
       "      <td>NaN</td>\n",
       "      <td>Afghanistan</td>\n",
       "      <td>33.93911</td>\n",
       "      <td>67.709953</td>\n",
       "      <td>0</td>\n",
       "      <td>0</td>\n",
       "      <td>0</td>\n",
       "      <td>0</td>\n",
       "      <td>0</td>\n",
       "      <td>0</td>\n",
       "      <td>...</td>\n",
       "      <td>4730</td>\n",
       "      <td>4794</td>\n",
       "      <td>4871</td>\n",
       "      <td>4962</td>\n",
       "      <td>4962</td>\n",
       "      <td>4962</td>\n",
       "      <td>4962</td>\n",
       "      <td>5283</td>\n",
       "      <td>5360</td>\n",
       "      <td>5415</td>\n",
       "    </tr>\n",
       "    <tr>\n",
       "      <th>1</th>\n",
       "      <td>NaN</td>\n",
       "      <td>Albania</td>\n",
       "      <td>41.15330</td>\n",
       "      <td>20.168300</td>\n",
       "      <td>0</td>\n",
       "      <td>0</td>\n",
       "      <td>0</td>\n",
       "      <td>0</td>\n",
       "      <td>0</td>\n",
       "      <td>0</td>\n",
       "      <td>...</td>\n",
       "      <td>2456</td>\n",
       "      <td>2456</td>\n",
       "      <td>2456</td>\n",
       "      <td>2456</td>\n",
       "      <td>2456</td>\n",
       "      <td>2456</td>\n",
       "      <td>2456</td>\n",
       "      <td>2456</td>\n",
       "      <td>2456</td>\n",
       "      <td>2456</td>\n",
       "    </tr>\n",
       "    <tr>\n",
       "      <th>2</th>\n",
       "      <td>NaN</td>\n",
       "      <td>Algeria</td>\n",
       "      <td>28.03390</td>\n",
       "      <td>1.659600</td>\n",
       "      <td>0</td>\n",
       "      <td>0</td>\n",
       "      <td>0</td>\n",
       "      <td>0</td>\n",
       "      <td>0</td>\n",
       "      <td>0</td>\n",
       "      <td>...</td>\n",
       "      <td>3699</td>\n",
       "      <td>3708</td>\n",
       "      <td>3716</td>\n",
       "      <td>3726</td>\n",
       "      <td>3735</td>\n",
       "      <td>3745</td>\n",
       "      <td>3755</td>\n",
       "      <td>3765</td>\n",
       "      <td>3775</td>\n",
       "      <td>3786</td>\n",
       "    </tr>\n",
       "    <tr>\n",
       "      <th>3</th>\n",
       "      <td>NaN</td>\n",
       "      <td>Andorra</td>\n",
       "      <td>42.50630</td>\n",
       "      <td>1.521800</td>\n",
       "      <td>0</td>\n",
       "      <td>0</td>\n",
       "      <td>0</td>\n",
       "      <td>0</td>\n",
       "      <td>0</td>\n",
       "      <td>0</td>\n",
       "      <td>...</td>\n",
       "      <td>127</td>\n",
       "      <td>127</td>\n",
       "      <td>127</td>\n",
       "      <td>127</td>\n",
       "      <td>127</td>\n",
       "      <td>127</td>\n",
       "      <td>127</td>\n",
       "      <td>127</td>\n",
       "      <td>127</td>\n",
       "      <td>127</td>\n",
       "    </tr>\n",
       "    <tr>\n",
       "      <th>4</th>\n",
       "      <td>NaN</td>\n",
       "      <td>Angola</td>\n",
       "      <td>-11.20270</td>\n",
       "      <td>17.873900</td>\n",
       "      <td>0</td>\n",
       "      <td>0</td>\n",
       "      <td>0</td>\n",
       "      <td>0</td>\n",
       "      <td>0</td>\n",
       "      <td>0</td>\n",
       "      <td>...</td>\n",
       "      <td>891</td>\n",
       "      <td>894</td>\n",
       "      <td>900</td>\n",
       "      <td>903</td>\n",
       "      <td>906</td>\n",
       "      <td>910</td>\n",
       "      <td>913</td>\n",
       "      <td>915</td>\n",
       "      <td>920</td>\n",
       "      <td>925</td>\n",
       "    </tr>\n",
       "  </tbody>\n",
       "</table>\n",
       "<p>5 rows × 537 columns</p>\n",
       "</div>"
      ],
      "text/plain": [
       "  Province/State Country/Region       Lat       Long  1/22/20  1/23/20  \\\n",
       "0            NaN    Afghanistan  33.93911  67.709953        0        0   \n",
       "1            NaN        Albania  41.15330  20.168300        0        0   \n",
       "2            NaN        Algeria  28.03390   1.659600        0        0   \n",
       "3            NaN        Andorra  42.50630   1.521800        0        0   \n",
       "4            NaN         Angola -11.20270  17.873900        0        0   \n",
       "\n",
       "   1/24/20  1/25/20  1/26/20  1/27/20  ...  6/28/21  6/29/21  6/30/21  \\\n",
       "0        0        0        0        0  ...     4730     4794     4871   \n",
       "1        0        0        0        0  ...     2456     2456     2456   \n",
       "2        0        0        0        0  ...     3699     3708     3716   \n",
       "3        0        0        0        0  ...      127      127      127   \n",
       "4        0        0        0        0  ...      891      894      900   \n",
       "\n",
       "   07/01/2021  07/02/2021  07/03/2021  07/04/2021  07/05/2021  07/06/2021  \\\n",
       "0        4962        4962        4962        4962        5283        5360   \n",
       "1        2456        2456        2456        2456        2456        2456   \n",
       "2        3726        3735        3745        3755        3765        3775   \n",
       "3         127         127         127         127         127         127   \n",
       "4         903         906         910         913         915         920   \n",
       "\n",
       "   07/07/2021  \n",
       "0        5415  \n",
       "1        2456  \n",
       "2        3786  \n",
       "3         127  \n",
       "4         925  \n",
       "\n",
       "[5 rows x 537 columns]"
      ]
     },
     "execution_count": 3,
     "metadata": {},
     "output_type": "execute_result"
    }
   ],
   "source": [
    "#Reading Global Death Dataset\n",
    "GlobalDeath = pd.read_csv('deaths_global.csv')\n",
    "GlobalDeath.info()\n",
    "GlobalDeath.head()"
   ]
  },
  {
   "cell_type": "markdown",
   "id": "4be78dc9",
   "metadata": {},
   "source": [
    "\n",
    "### <font color = blue> Feature Extraction <br/> <font size= 2>Fewer variables can be used that provide reasonable fidelity to the original data.\n",
    "<font color = navy> Used Country/Region, Latitude, Longitude and the cumulative of the Confirmed cases and deaths as predictors from the confirmed_global and deaths_global datasets."
   ]
  },
  {
   "cell_type": "code",
   "execution_count": 4,
   "id": "579971f2",
   "metadata": {},
   "outputs": [
    {
     "name": "stdout",
     "output_type": "stream",
     "text": [
      "<class 'pandas.core.frame.DataFrame'>\n",
      "Int64Index: 5 entries, 257 to 57\n",
      "Data columns (total 4 columns):\n",
      " #   Column          Non-Null Count  Dtype  \n",
      "---  ------          --------------  -----  \n",
      " 0   Country/Region  5 non-null      object \n",
      " 1   Lat             5 non-null      float64\n",
      " 2   Long            5 non-null      float64\n",
      " 3   07/07/2021      5 non-null      int64  \n",
      "dtypes: float64(2), int64(1), object(1)\n",
      "memory usage: 200.0+ bytes\n"
     ]
    },
    {
     "data": {
      "text/html": [
       "<div>\n",
       "<style scoped>\n",
       "    .dataframe tbody tr th:only-of-type {\n",
       "        vertical-align: middle;\n",
       "    }\n",
       "\n",
       "    .dataframe tbody tr th {\n",
       "        vertical-align: top;\n",
       "    }\n",
       "\n",
       "    .dataframe thead th {\n",
       "        text-align: right;\n",
       "    }\n",
       "</style>\n",
       "<table border=\"1\" class=\"dataframe\">\n",
       "  <thead>\n",
       "    <tr style=\"text-align: right;\">\n",
       "      <th></th>\n",
       "      <th>Country/Region</th>\n",
       "      <th>Lat</th>\n",
       "      <th>Long</th>\n",
       "      <th>07/07/2021</th>\n",
       "    </tr>\n",
       "  </thead>\n",
       "  <tbody>\n",
       "    <tr>\n",
       "      <th>257</th>\n",
       "      <td>United Arab Emirates</td>\n",
       "      <td>23.424076</td>\n",
       "      <td>53.847818</td>\n",
       "      <td>644114</td>\n",
       "    </tr>\n",
       "    <tr>\n",
       "      <th>6</th>\n",
       "      <td>Argentina</td>\n",
       "      <td>-38.416100</td>\n",
       "      <td>-63.616700</td>\n",
       "      <td>4593763</td>\n",
       "    </tr>\n",
       "    <tr>\n",
       "      <th>37</th>\n",
       "      <td>Cambodia</td>\n",
       "      <td>11.550000</td>\n",
       "      <td>104.916700</td>\n",
       "      <td>57103</td>\n",
       "    </tr>\n",
       "    <tr>\n",
       "      <th>214</th>\n",
       "      <td>Portugal</td>\n",
       "      <td>39.399900</td>\n",
       "      <td>-8.224500</td>\n",
       "      <td>896026</td>\n",
       "    </tr>\n",
       "    <tr>\n",
       "      <th>57</th>\n",
       "      <td>Chile</td>\n",
       "      <td>-35.675100</td>\n",
       "      <td>-71.543000</td>\n",
       "      <td>1576336</td>\n",
       "    </tr>\n",
       "  </tbody>\n",
       "</table>\n",
       "</div>"
      ],
      "text/plain": [
       "           Country/Region        Lat        Long  07/07/2021\n",
       "257  United Arab Emirates  23.424076   53.847818      644114\n",
       "6               Argentina -38.416100  -63.616700     4593763\n",
       "37               Cambodia  11.550000  104.916700       57103\n",
       "214              Portugal  39.399900   -8.224500      896026\n",
       "57                  Chile -35.675100  -71.543000     1576336"
      ]
     },
     "execution_count": 4,
     "metadata": {},
     "output_type": "execute_result"
    }
   ],
   "source": [
    "#Creating a dataframe for Confirmed Cases in the top 5 fully vaccinated countries in the world\n",
    "\n",
    "CT_UAE = GlobalConfirmed.loc[GlobalConfirmed['Country/Region'] == \"United Arab Emirates\"]\n",
    "CT_Arg = GlobalConfirmed.loc[GlobalConfirmed['Country/Region'] == \"Argentina\"]\n",
    "CT_Cam= GlobalConfirmed.loc[GlobalConfirmed['Country/Region'] == \"Cambodia\"]\n",
    "CT_Portugal = GlobalConfirmed.loc[GlobalConfirmed['Country/Region'] == \"Portugal\"]\n",
    "CT_Chile = GlobalConfirmed.loc[GlobalConfirmed['Country/Region'] == \"Chile\"]\n",
    "\n",
    "\n",
    "\n",
    "ConfirmedC = (CT_UAE, CT_Arg, CT_Cam, CT_Portugal,CT_Chile)\n",
    "#Feature extraction\n",
    "ConfirmedCasesTop= pd.concat(ConfirmedC).loc[:,['Country/Region','Lat','Long','07/07/2021']]\n",
    "\n",
    "ConfirmedCasesTop.info()\n",
    "ConfirmedCasesTop.head()\n"
   ]
  },
  {
   "cell_type": "code",
   "execution_count": 5,
   "id": "c759c7f4",
   "metadata": {},
   "outputs": [
    {
     "name": "stdout",
     "output_type": "stream",
     "text": [
      "<class 'pandas.core.frame.DataFrame'>\n",
      "Int64Index: 5 entries, 257 to 57\n",
      "Data columns (total 1 columns):\n",
      " #   Column      Non-Null Count  Dtype\n",
      "---  ------      --------------  -----\n",
      " 0   07/07/2021  5 non-null      int64\n",
      "dtypes: int64(1)\n",
      "memory usage: 80.0 bytes\n"
     ]
    },
    {
     "data": {
      "text/html": [
       "<div>\n",
       "<style scoped>\n",
       "    .dataframe tbody tr th:only-of-type {\n",
       "        vertical-align: middle;\n",
       "    }\n",
       "\n",
       "    .dataframe tbody tr th {\n",
       "        vertical-align: top;\n",
       "    }\n",
       "\n",
       "    .dataframe thead th {\n",
       "        text-align: right;\n",
       "    }\n",
       "</style>\n",
       "<table border=\"1\" class=\"dataframe\">\n",
       "  <thead>\n",
       "    <tr style=\"text-align: right;\">\n",
       "      <th></th>\n",
       "      <th>07/07/2021</th>\n",
       "    </tr>\n",
       "  </thead>\n",
       "  <tbody>\n",
       "    <tr>\n",
       "      <th>257</th>\n",
       "      <td>1847</td>\n",
       "    </tr>\n",
       "    <tr>\n",
       "      <th>6</th>\n",
       "      <td>97439</td>\n",
       "    </tr>\n",
       "    <tr>\n",
       "      <th>37</th>\n",
       "      <td>798</td>\n",
       "    </tr>\n",
       "    <tr>\n",
       "      <th>214</th>\n",
       "      <td>17126</td>\n",
       "    </tr>\n",
       "    <tr>\n",
       "      <th>57</th>\n",
       "      <td>33328</td>\n",
       "    </tr>\n",
       "  </tbody>\n",
       "</table>\n",
       "</div>"
      ],
      "text/plain": [
       "     07/07/2021\n",
       "257        1847\n",
       "6         97439\n",
       "37          798\n",
       "214       17126\n",
       "57        33328"
      ]
     },
     "execution_count": 5,
     "metadata": {},
     "output_type": "execute_result"
    }
   ],
   "source": [
    "\n",
    "#Creating a dataframe for Deaths in the top 5 fully vaccinated countries in the world\n",
    "\n",
    "DT_UAE = GlobalDeath.loc[GlobalDeath['Country/Region'] == \"United Arab Emirates\"]\n",
    "DT_Arg= GlobalDeath.loc[GlobalDeath['Country/Region'] == \"Argentina\"]\n",
    "DT_Cam= GlobalDeath.loc[GlobalDeath['Country/Region'] == \"Cambodia\"]\n",
    "DT_Portugal = GlobalDeath.loc[GlobalDeath['Country/Region'] == \"Portugal\"]\n",
    "DT_Chile = GlobalDeath.loc[GlobalDeath['Country/Region'] == \"Chile\"]\n",
    "\n",
    "\n",
    "\n",
    "ConfirmedD = (DT_UAE, DT_Arg, DT_Cam, DT_Portugal,DT_Chile)\n",
    "ConfirmedDeathTop= pd.concat(ConfirmedD).loc[:,['07/07/2021']]\n",
    "\n",
    "\n",
    "ConfirmedDeathTop.info()\n",
    "ConfirmedDeathTop.head()\n"
   ]
  },
  {
   "cell_type": "code",
   "execution_count": 6,
   "id": "eb1d2661",
   "metadata": {},
   "outputs": [
    {
     "name": "stdout",
     "output_type": "stream",
     "text": [
      "<class 'pandas.core.frame.DataFrame'>\n",
      "Int64Index: 5 entries, 174 to 276\n",
      "Data columns (total 4 columns):\n",
      " #   Column          Non-Null Count  Dtype  \n",
      "---  ------          --------------  -----  \n",
      " 0   Country/Region  5 non-null      object \n",
      " 1   Lat             5 non-null      float64\n",
      " 2   Long            5 non-null      float64\n",
      " 3   07/07/2021      5 non-null      int64  \n",
      "dtypes: float64(2), int64(1), object(1)\n",
      "memory usage: 200.0+ bytes\n"
     ]
    },
    {
     "data": {
      "text/html": [
       "<div>\n",
       "<style scoped>\n",
       "    .dataframe tbody tr th:only-of-type {\n",
       "        vertical-align: middle;\n",
       "    }\n",
       "\n",
       "    .dataframe tbody tr th {\n",
       "        vertical-align: top;\n",
       "    }\n",
       "\n",
       "    .dataframe thead th {\n",
       "        text-align: right;\n",
       "    }\n",
       "</style>\n",
       "<table border=\"1\" class=\"dataframe\">\n",
       "  <thead>\n",
       "    <tr style=\"text-align: right;\">\n",
       "      <th></th>\n",
       "      <th>Country/Region</th>\n",
       "      <th>Lat</th>\n",
       "      <th>Long</th>\n",
       "      <th>07/07/2021</th>\n",
       "    </tr>\n",
       "  </thead>\n",
       "  <tbody>\n",
       "    <tr>\n",
       "      <th>174</th>\n",
       "      <td>Madagascar</td>\n",
       "      <td>-18.766947</td>\n",
       "      <td>46.869107</td>\n",
       "      <td>42358</td>\n",
       "    </tr>\n",
       "    <tr>\n",
       "      <th>38</th>\n",
       "      <td>Cameroon</td>\n",
       "      <td>3.848000</td>\n",
       "      <td>11.502100</td>\n",
       "      <td>80858</td>\n",
       "    </tr>\n",
       "    <tr>\n",
       "      <th>247</th>\n",
       "      <td>Tanzania</td>\n",
       "      <td>-6.369028</td>\n",
       "      <td>34.888822</td>\n",
       "      <td>509</td>\n",
       "    </tr>\n",
       "    <tr>\n",
       "      <th>142</th>\n",
       "      <td>Haiti</td>\n",
       "      <td>18.971200</td>\n",
       "      <td>-72.285200</td>\n",
       "      <td>19172</td>\n",
       "    </tr>\n",
       "    <tr>\n",
       "      <th>276</th>\n",
       "      <td>Yemen</td>\n",
       "      <td>15.552727</td>\n",
       "      <td>48.516388</td>\n",
       "      <td>6934</td>\n",
       "    </tr>\n",
       "  </tbody>\n",
       "</table>\n",
       "</div>"
      ],
      "text/plain": [
       "    Country/Region        Lat       Long  07/07/2021\n",
       "174     Madagascar -18.766947  46.869107       42358\n",
       "38        Cameroon   3.848000  11.502100       80858\n",
       "247       Tanzania  -6.369028  34.888822         509\n",
       "142          Haiti  18.971200 -72.285200       19172\n",
       "276          Yemen  15.552727  48.516388        6934"
      ]
     },
     "execution_count": 6,
     "metadata": {},
     "output_type": "execute_result"
    }
   ],
   "source": [
    "#Creating a dataframe for Confirmed Cases in the 5 least fully vaccinated countries in the world\n",
    "CL_Mad = GlobalConfirmed.loc[GlobalConfirmed['Country/Region'] == \"Madagascar\"]\n",
    "CL_Came= GlobalConfirmed.loc[GlobalConfirmed['Country/Region'] == \"Cameroon\"]\n",
    "CL_Tan = GlobalConfirmed.loc[GlobalConfirmed['Country/Region'] == \"Tanzania\"]\n",
    "CL_Haiti= GlobalConfirmed.loc[GlobalConfirmed['Country/Region'] == \"Haiti\"]\n",
    "CL_Yemen = GlobalConfirmed.loc[GlobalConfirmed['Country/Region'] == \"Yemen\"]\n",
    "\n",
    "\n",
    "ConfirmedC = (CL_Mad, CL_Came, CL_Tan, CL_Haiti,CL_Yemen)\n",
    "ConfirmedCasesBottom= pd.concat(ConfirmedC).loc[:,['Country/Region','Lat','Long','07/07/2021']]\n",
    "\n",
    "\n",
    "ConfirmedCasesBottom.info()\n",
    "ConfirmedCasesBottom.head()\n",
    "\n",
    "\n"
   ]
  },
  {
   "cell_type": "code",
   "execution_count": 7,
   "id": "b01d2a50",
   "metadata": {},
   "outputs": [
    {
     "name": "stdout",
     "output_type": "stream",
     "text": [
      "<class 'pandas.core.frame.DataFrame'>\n",
      "Int64Index: 5 entries, 174 to 276\n",
      "Data columns (total 1 columns):\n",
      " #   Column      Non-Null Count  Dtype\n",
      "---  ------      --------------  -----\n",
      " 0   07/07/2021  5 non-null      int64\n",
      "dtypes: int64(1)\n",
      "memory usage: 80.0 bytes\n"
     ]
    },
    {
     "data": {
      "text/html": [
       "<div>\n",
       "<style scoped>\n",
       "    .dataframe tbody tr th:only-of-type {\n",
       "        vertical-align: middle;\n",
       "    }\n",
       "\n",
       "    .dataframe tbody tr th {\n",
       "        vertical-align: top;\n",
       "    }\n",
       "\n",
       "    .dataframe thead th {\n",
       "        text-align: right;\n",
       "    }\n",
       "</style>\n",
       "<table border=\"1\" class=\"dataframe\">\n",
       "  <thead>\n",
       "    <tr style=\"text-align: right;\">\n",
       "      <th></th>\n",
       "      <th>07/07/2021</th>\n",
       "    </tr>\n",
       "  </thead>\n",
       "  <tbody>\n",
       "    <tr>\n",
       "      <th>174</th>\n",
       "      <td>926</td>\n",
       "    </tr>\n",
       "    <tr>\n",
       "      <th>38</th>\n",
       "      <td>1324</td>\n",
       "    </tr>\n",
       "    <tr>\n",
       "      <th>247</th>\n",
       "      <td>21</td>\n",
       "    </tr>\n",
       "    <tr>\n",
       "      <th>142</th>\n",
       "      <td>467</td>\n",
       "    </tr>\n",
       "    <tr>\n",
       "      <th>276</th>\n",
       "      <td>1364</td>\n",
       "    </tr>\n",
       "  </tbody>\n",
       "</table>\n",
       "</div>"
      ],
      "text/plain": [
       "     07/07/2021\n",
       "174         926\n",
       "38         1324\n",
       "247          21\n",
       "142         467\n",
       "276        1364"
      ]
     },
     "execution_count": 7,
     "metadata": {},
     "output_type": "execute_result"
    }
   ],
   "source": [
    "#Creating a dataframe for Deaths in the 5 least fully vaccinated countries in the world\n",
    "DL_Mad = GlobalDeath.loc[GlobalDeath['Country/Region'] == \"Madagascar\"]\n",
    "DL_Came = GlobalDeath.loc[GlobalDeath['Country/Region'] == \"Cameroon\"]\n",
    "DL_Tan = GlobalDeath.loc[GlobalDeath['Country/Region'] == \"Tanzania\"]\n",
    "DL_Haiti= GlobalDeath.loc[GlobalDeath['Country/Region'] == \"Haiti\"]\n",
    "DL_Yemen = GlobalDeath.loc[GlobalDeath['Country/Region'] == \"Yemen\"]\n",
    "\n",
    "\n",
    "ConfirmedD = (DL_Mad, DL_Came, DL_Tan, DL_Haiti,DL_Yemen)\n",
    "ConfirmedDeathBottom= pd.concat(ConfirmedD).loc[:,['07/07/2021']]\n",
    "\n",
    "\n",
    "ConfirmedDeathBottom.info()\n",
    "ConfirmedDeathBottom.head()\n"
   ]
  },
  {
   "cell_type": "code",
   "execution_count": 8,
   "id": "1444eeeb",
   "metadata": {},
   "outputs": [
    {
     "data": {
      "text/html": [
       "<div>\n",
       "<style scoped>\n",
       "    .dataframe tbody tr th:only-of-type {\n",
       "        vertical-align: middle;\n",
       "    }\n",
       "\n",
       "    .dataframe tbody tr th {\n",
       "        vertical-align: top;\n",
       "    }\n",
       "\n",
       "    .dataframe thead th {\n",
       "        text-align: right;\n",
       "    }\n",
       "</style>\n",
       "<table border=\"1\" class=\"dataframe\">\n",
       "  <thead>\n",
       "    <tr style=\"text-align: right;\">\n",
       "      <th></th>\n",
       "      <th>Country</th>\n",
       "      <th>Lat</th>\n",
       "      <th>Long</th>\n",
       "      <th>Confirmed Cases</th>\n",
       "      <th>Confirmed Deaths</th>\n",
       "    </tr>\n",
       "  </thead>\n",
       "  <tbody>\n",
       "    <tr>\n",
       "      <th>257</th>\n",
       "      <td>United Arab Emirates</td>\n",
       "      <td>23.424076</td>\n",
       "      <td>53.847818</td>\n",
       "      <td>644114</td>\n",
       "      <td>1847</td>\n",
       "    </tr>\n",
       "    <tr>\n",
       "      <th>6</th>\n",
       "      <td>Argentina</td>\n",
       "      <td>-38.416100</td>\n",
       "      <td>-63.616700</td>\n",
       "      <td>4593763</td>\n",
       "      <td>97439</td>\n",
       "    </tr>\n",
       "    <tr>\n",
       "      <th>37</th>\n",
       "      <td>Cambodia</td>\n",
       "      <td>11.550000</td>\n",
       "      <td>104.916700</td>\n",
       "      <td>57103</td>\n",
       "      <td>798</td>\n",
       "    </tr>\n",
       "    <tr>\n",
       "      <th>214</th>\n",
       "      <td>Portugal</td>\n",
       "      <td>39.399900</td>\n",
       "      <td>-8.224500</td>\n",
       "      <td>896026</td>\n",
       "      <td>17126</td>\n",
       "    </tr>\n",
       "    <tr>\n",
       "      <th>57</th>\n",
       "      <td>Chile</td>\n",
       "      <td>-35.675100</td>\n",
       "      <td>-71.543000</td>\n",
       "      <td>1576336</td>\n",
       "      <td>33328</td>\n",
       "    </tr>\n",
       "  </tbody>\n",
       "</table>\n",
       "</div>"
      ],
      "text/plain": [
       "                  Country        Lat        Long  Confirmed Cases  \\\n",
       "257  United Arab Emirates  23.424076   53.847818           644114   \n",
       "6               Argentina -38.416100  -63.616700          4593763   \n",
       "37               Cambodia  11.550000  104.916700            57103   \n",
       "214              Portugal  39.399900   -8.224500           896026   \n",
       "57                  Chile -35.675100  -71.543000          1576336   \n",
       "\n",
       "     Confirmed Deaths  \n",
       "257              1847  \n",
       "6               97439  \n",
       "37                798  \n",
       "214             17126  \n",
       "57              33328  "
      ]
     },
     "execution_count": 8,
     "metadata": {},
     "output_type": "execute_result"
    }
   ],
   "source": [
    "# Creating a dataframe for Top 5 Fully Vaccinated Countries\n",
    "# dataframe - VaccinatedDataTop\n",
    "VaccinatedDataTop = ConfirmedCasesTop\n",
    "VaccinatedDataTop.rename(columns={'Country/Region':'Country','07/07/2021':'Confirmed Cases'}, inplace=True)\n",
    "VaccinatedDataTop['Confirmed Deaths'] = ConfirmedDeathTop\n",
    "VaccinatedDataTop\n",
    "#VaccinatedDataTop.to_csv('VaccinatedTopCountries.csv',encoding = 'utf-8')\n",
    "\n"
   ]
  },
  {
   "cell_type": "code",
   "execution_count": 9,
   "id": "adbeece9",
   "metadata": {},
   "outputs": [
    {
     "data": {
      "text/plain": [
       "Country             0\n",
       "Lat                 0\n",
       "Long                0\n",
       "Confirmed Cases     0\n",
       "Confirmed Deaths    0\n",
       "dtype: int64"
      ]
     },
     "execution_count": 9,
     "metadata": {},
     "output_type": "execute_result"
    }
   ],
   "source": [
    "VaccinatedDataTop.isnull().sum()\n",
    "#no missing values"
   ]
  },
  {
   "cell_type": "code",
   "execution_count": 10,
   "id": "95f1b55e",
   "metadata": {},
   "outputs": [
    {
     "data": {
      "text/html": [
       "<div>\n",
       "<style scoped>\n",
       "    .dataframe tbody tr th:only-of-type {\n",
       "        vertical-align: middle;\n",
       "    }\n",
       "\n",
       "    .dataframe tbody tr th {\n",
       "        vertical-align: top;\n",
       "    }\n",
       "\n",
       "    .dataframe thead th {\n",
       "        text-align: right;\n",
       "    }\n",
       "</style>\n",
       "<table border=\"1\" class=\"dataframe\">\n",
       "  <thead>\n",
       "    <tr style=\"text-align: right;\">\n",
       "      <th></th>\n",
       "      <th>Lat</th>\n",
       "      <th>Long</th>\n",
       "      <th>Confirmed Cases</th>\n",
       "      <th>Confirmed Deaths</th>\n",
       "    </tr>\n",
       "  </thead>\n",
       "  <tbody>\n",
       "    <tr>\n",
       "      <th>count</th>\n",
       "      <td>5.000000</td>\n",
       "      <td>5.000000</td>\n",
       "      <td>5.000000e+00</td>\n",
       "      <td>5.00000</td>\n",
       "    </tr>\n",
       "    <tr>\n",
       "      <th>mean</th>\n",
       "      <td>0.056555</td>\n",
       "      <td>3.076064</td>\n",
       "      <td>1.553468e+06</td>\n",
       "      <td>30107.60000</td>\n",
       "    </tr>\n",
       "    <tr>\n",
       "      <th>std</th>\n",
       "      <td>35.294955</td>\n",
       "      <td>75.981771</td>\n",
       "      <td>1.784809e+06</td>\n",
       "      <td>39906.52987</td>\n",
       "    </tr>\n",
       "    <tr>\n",
       "      <th>min</th>\n",
       "      <td>-38.416100</td>\n",
       "      <td>-71.543000</td>\n",
       "      <td>5.710300e+04</td>\n",
       "      <td>798.00000</td>\n",
       "    </tr>\n",
       "    <tr>\n",
       "      <th>25%</th>\n",
       "      <td>-35.675100</td>\n",
       "      <td>-63.616700</td>\n",
       "      <td>6.441140e+05</td>\n",
       "      <td>1847.00000</td>\n",
       "    </tr>\n",
       "    <tr>\n",
       "      <th>50%</th>\n",
       "      <td>11.550000</td>\n",
       "      <td>-8.224500</td>\n",
       "      <td>8.960260e+05</td>\n",
       "      <td>17126.00000</td>\n",
       "    </tr>\n",
       "    <tr>\n",
       "      <th>75%</th>\n",
       "      <td>23.424076</td>\n",
       "      <td>53.847818</td>\n",
       "      <td>1.576336e+06</td>\n",
       "      <td>33328.00000</td>\n",
       "    </tr>\n",
       "    <tr>\n",
       "      <th>max</th>\n",
       "      <td>39.399900</td>\n",
       "      <td>104.916700</td>\n",
       "      <td>4.593763e+06</td>\n",
       "      <td>97439.00000</td>\n",
       "    </tr>\n",
       "  </tbody>\n",
       "</table>\n",
       "</div>"
      ],
      "text/plain": [
       "             Lat        Long  Confirmed Cases  Confirmed Deaths\n",
       "count   5.000000    5.000000     5.000000e+00           5.00000\n",
       "mean    0.056555    3.076064     1.553468e+06       30107.60000\n",
       "std    35.294955   75.981771     1.784809e+06       39906.52987\n",
       "min   -38.416100  -71.543000     5.710300e+04         798.00000\n",
       "25%   -35.675100  -63.616700     6.441140e+05        1847.00000\n",
       "50%    11.550000   -8.224500     8.960260e+05       17126.00000\n",
       "75%    23.424076   53.847818     1.576336e+06       33328.00000\n",
       "max    39.399900  104.916700     4.593763e+06       97439.00000"
      ]
     },
     "execution_count": 10,
     "metadata": {},
     "output_type": "execute_result"
    }
   ],
   "source": [
    "VaccinatedDataTop.describe()"
   ]
  },
  {
   "cell_type": "code",
   "execution_count": 11,
   "id": "3524be8e",
   "metadata": {},
   "outputs": [
    {
     "data": {
      "text/html": [
       "<div>\n",
       "<style scoped>\n",
       "    .dataframe tbody tr th:only-of-type {\n",
       "        vertical-align: middle;\n",
       "    }\n",
       "\n",
       "    .dataframe tbody tr th {\n",
       "        vertical-align: top;\n",
       "    }\n",
       "\n",
       "    .dataframe thead th {\n",
       "        text-align: right;\n",
       "    }\n",
       "</style>\n",
       "<table border=\"1\" class=\"dataframe\">\n",
       "  <thead>\n",
       "    <tr style=\"text-align: right;\">\n",
       "      <th></th>\n",
       "      <th>Country</th>\n",
       "      <th>Lat</th>\n",
       "      <th>Long</th>\n",
       "      <th>Confirmed Cases</th>\n",
       "      <th>Confirmed Deaths</th>\n",
       "    </tr>\n",
       "  </thead>\n",
       "  <tbody>\n",
       "    <tr>\n",
       "      <th>174</th>\n",
       "      <td>Madagascar</td>\n",
       "      <td>-18.766947</td>\n",
       "      <td>46.869107</td>\n",
       "      <td>42358</td>\n",
       "      <td>926</td>\n",
       "    </tr>\n",
       "    <tr>\n",
       "      <th>38</th>\n",
       "      <td>Cameroon</td>\n",
       "      <td>3.848000</td>\n",
       "      <td>11.502100</td>\n",
       "      <td>80858</td>\n",
       "      <td>1324</td>\n",
       "    </tr>\n",
       "    <tr>\n",
       "      <th>247</th>\n",
       "      <td>Tanzania</td>\n",
       "      <td>-6.369028</td>\n",
       "      <td>34.888822</td>\n",
       "      <td>509</td>\n",
       "      <td>21</td>\n",
       "    </tr>\n",
       "    <tr>\n",
       "      <th>142</th>\n",
       "      <td>Haiti</td>\n",
       "      <td>18.971200</td>\n",
       "      <td>-72.285200</td>\n",
       "      <td>19172</td>\n",
       "      <td>467</td>\n",
       "    </tr>\n",
       "    <tr>\n",
       "      <th>276</th>\n",
       "      <td>Yemen</td>\n",
       "      <td>15.552727</td>\n",
       "      <td>48.516388</td>\n",
       "      <td>6934</td>\n",
       "      <td>1364</td>\n",
       "    </tr>\n",
       "  </tbody>\n",
       "</table>\n",
       "</div>"
      ],
      "text/plain": [
       "        Country        Lat       Long  Confirmed Cases  Confirmed Deaths\n",
       "174  Madagascar -18.766947  46.869107            42358               926\n",
       "38     Cameroon   3.848000  11.502100            80858              1324\n",
       "247    Tanzania  -6.369028  34.888822              509                21\n",
       "142       Haiti  18.971200 -72.285200            19172               467\n",
       "276       Yemen  15.552727  48.516388             6934              1364"
      ]
     },
     "execution_count": 11,
     "metadata": {},
     "output_type": "execute_result"
    }
   ],
   "source": [
    "# Creating a dataframe for Least Fully Vaccinated countries\n",
    "# dataframe - VaccinatedDataBottom\n",
    "VaccinatedDataBottom = ConfirmedCasesBottom\n",
    "VaccinatedDataBottom.rename(columns={'Country/Region':'Country','07/07/2021':'Confirmed Cases'}, inplace=True)\n",
    "VaccinatedDataBottom['Confirmed Deaths'] = ConfirmedDeathBottom\n",
    "VaccinatedDataBottom\n",
    "#VaccinatedDataBottom.to_csv('VaccinatedBottomCountries.csv',encoding = 'utf-8')"
   ]
  },
  {
   "cell_type": "code",
   "execution_count": 12,
   "id": "657f6532",
   "metadata": {},
   "outputs": [
    {
     "data": {
      "text/plain": [
       "Country             0\n",
       "Lat                 0\n",
       "Long                0\n",
       "Confirmed Cases     0\n",
       "Confirmed Deaths    0\n",
       "dtype: int64"
      ]
     },
     "execution_count": 12,
     "metadata": {},
     "output_type": "execute_result"
    }
   ],
   "source": [
    "VaccinatedDataBottom.isnull().sum()\n",
    "#no missing values"
   ]
  },
  {
   "cell_type": "code",
   "execution_count": 13,
   "id": "2a0a651f",
   "metadata": {
    "scrolled": true
   },
   "outputs": [
    {
     "data": {
      "text/html": [
       "<div>\n",
       "<style scoped>\n",
       "    .dataframe tbody tr th:only-of-type {\n",
       "        vertical-align: middle;\n",
       "    }\n",
       "\n",
       "    .dataframe tbody tr th {\n",
       "        vertical-align: top;\n",
       "    }\n",
       "\n",
       "    .dataframe thead th {\n",
       "        text-align: right;\n",
       "    }\n",
       "</style>\n",
       "<table border=\"1\" class=\"dataframe\">\n",
       "  <thead>\n",
       "    <tr style=\"text-align: right;\">\n",
       "      <th></th>\n",
       "      <th>Lat</th>\n",
       "      <th>Long</th>\n",
       "      <th>Confirmed Cases</th>\n",
       "      <th>Confirmed Deaths</th>\n",
       "    </tr>\n",
       "  </thead>\n",
       "  <tbody>\n",
       "    <tr>\n",
       "      <th>count</th>\n",
       "      <td>5.000000</td>\n",
       "      <td>5.000000</td>\n",
       "      <td>5.000000</td>\n",
       "      <td>5.000000</td>\n",
       "    </tr>\n",
       "    <tr>\n",
       "      <th>mean</th>\n",
       "      <td>2.647190</td>\n",
       "      <td>13.898243</td>\n",
       "      <td>29966.200000</td>\n",
       "      <td>820.400000</td>\n",
       "    </tr>\n",
       "    <tr>\n",
       "      <th>std</th>\n",
       "      <td>15.607094</td>\n",
       "      <td>50.396988</td>\n",
       "      <td>32627.655588</td>\n",
       "      <td>575.368838</td>\n",
       "    </tr>\n",
       "    <tr>\n",
       "      <th>min</th>\n",
       "      <td>-18.766947</td>\n",
       "      <td>-72.285200</td>\n",
       "      <td>509.000000</td>\n",
       "      <td>21.000000</td>\n",
       "    </tr>\n",
       "    <tr>\n",
       "      <th>25%</th>\n",
       "      <td>-6.369028</td>\n",
       "      <td>11.502100</td>\n",
       "      <td>6934.000000</td>\n",
       "      <td>467.000000</td>\n",
       "    </tr>\n",
       "    <tr>\n",
       "      <th>50%</th>\n",
       "      <td>3.848000</td>\n",
       "      <td>34.888822</td>\n",
       "      <td>19172.000000</td>\n",
       "      <td>926.000000</td>\n",
       "    </tr>\n",
       "    <tr>\n",
       "      <th>75%</th>\n",
       "      <td>15.552727</td>\n",
       "      <td>46.869107</td>\n",
       "      <td>42358.000000</td>\n",
       "      <td>1324.000000</td>\n",
       "    </tr>\n",
       "    <tr>\n",
       "      <th>max</th>\n",
       "      <td>18.971200</td>\n",
       "      <td>48.516388</td>\n",
       "      <td>80858.000000</td>\n",
       "      <td>1364.000000</td>\n",
       "    </tr>\n",
       "  </tbody>\n",
       "</table>\n",
       "</div>"
      ],
      "text/plain": [
       "             Lat       Long  Confirmed Cases  Confirmed Deaths\n",
       "count   5.000000   5.000000         5.000000          5.000000\n",
       "mean    2.647190  13.898243     29966.200000        820.400000\n",
       "std    15.607094  50.396988     32627.655588        575.368838\n",
       "min   -18.766947 -72.285200       509.000000         21.000000\n",
       "25%    -6.369028  11.502100      6934.000000        467.000000\n",
       "50%     3.848000  34.888822     19172.000000        926.000000\n",
       "75%    15.552727  46.869107     42358.000000       1324.000000\n",
       "max    18.971200  48.516388     80858.000000       1364.000000"
      ]
     },
     "execution_count": 13,
     "metadata": {},
     "output_type": "execute_result"
    }
   ],
   "source": [
    "VaccinatedDataBottom.describe()"
   ]
  },
  {
   "cell_type": "markdown",
   "id": "1e019d17",
   "metadata": {},
   "source": [
    "\n",
    "### <font color = blue> Feature Extraction - In Global Symptoms dataset\n",
    "<font color = navy> Uses Aches, Chest Pain, Cough, Breathing Difficulties, Sore Throat and Stuffy Nose as predictor variables because they are the most commonly spreaded and noticed symptoms. Also Country is taken as a predictor variable for analysis"
   ]
  },
  {
   "cell_type": "code",
   "execution_count": 14,
   "id": "b87fb59d",
   "metadata": {},
   "outputs": [],
   "source": [
    "\n",
    "#Reading Global symptoms data set dataset and then getting symptoms reported in Highly Vaccinated countries\n",
    "#Aches dataset\n",
    "Aches = pd.read_csv('global_symp_aches_smoothed.csv')\n",
    "Aches_UAE = Aches.loc[Aches['country'] == \"United Arab Emirates\"]\n",
    "Aches_Arg = Aches.loc[Aches['country'] == \"Argentina\"]\n",
    "Aches_Cam= Aches.loc[Aches['country'] == \"Cambodia\"]\n",
    "Aches_Portugal = Aches.loc[Aches['country'] == \"Portugal\"]\n",
    "Aches_Chile = Aches.loc[Aches['country'] == \"Chile\"]\n",
    "\n",
    "\n",
    "Aches= (Aches_UAE, Aches_Arg, Aches_Cam, Aches_Portugal,Aches_Chile)\n",
    "TopCountryAches= pd.concat(Aches).loc[:,['country','smoothed_pct_symp_aches']]\n",
    "\n",
    "#ChestPain dataset\n",
    "ChestPain = pd.read_csv('global_symp_chest_pain_smoothed.csv')\n",
    "CP_UAE = ChestPain.loc[ChestPain['country'] == \"United Arab Emirates\"]\n",
    "CP_Arg = ChestPain.loc[ChestPain['country'] == \"Argentina\"]\n",
    "CP_Cam= ChestPain.loc[ChestPain['country'] == \"Cambodia\"]\n",
    "CP_Portugal = ChestPain.loc[ChestPain['country'] == \"Portugal\"]\n",
    "CP_Chile = ChestPain.loc[ChestPain['country'] == \"Chile\"]\n",
    "\n",
    "\n",
    "ChestPain= (CP_UAE, CP_Arg, CP_Cam, CP_Portugal,CP_Chile)\n",
    "TopCountryChestPain= pd.concat(ChestPain).loc[:,['smoothed_pct_symp_chest_pain']]\n",
    "\n",
    "#Cough dataset\n",
    "Cough = pd.read_csv('global_symp_cough_smoothed.csv')\n",
    "CO_UAE = Cough.loc[Cough['country'] == \"United Arab Emirates\"]\n",
    "CO_Arg = Cough.loc[Cough['country'] == \"Argentina\"]\n",
    "CO_Cam= Cough.loc[Cough['country'] == \"Cambodia\"]\n",
    "CO_Portugal = Cough.loc[Cough['country'] == \"Portugal\"]\n",
    "CO_Chile = Cough.loc[Cough['country'] == \"Chile\"]\n",
    "\n",
    "\n",
    "Cough= (CO_UAE, CO_Arg, CO_Cam, CO_Portugal,CO_Chile)\n",
    "TopCountryCough= pd.concat(Cough).loc[:,['smoothed_pct_symp_cough']]\n",
    "\n",
    "\n",
    "#BreathingDifficulties dataste\n",
    "Breathing = pd.read_csv('global_symp_diff_breathing_smoothed.csv')\n",
    "\n",
    "Bre_UAE = Breathing.loc[Breathing['country'] == \"United Arab Emirates\"]\n",
    "Bre_Arg = Breathing.loc[Breathing['country'] == \"Argentina\"]\n",
    "Bre_Cam= Breathing.loc[Breathing['country'] == \"Cambodia\"]\n",
    "Bre_Portugal = Breathing.loc[Breathing['country'] == \"Portugal\"]\n",
    "Bre_Chile = Breathing.loc[Breathing['country'] == \"Chile\"]\n",
    "\n",
    "\n",
    "Breathing= (Bre_UAE, Bre_Arg, Bre_Cam, Bre_Portugal,Bre_Chile)\n",
    "TopCountryBreathing= pd.concat(Breathing).loc[:,['smoothed_pct_symp_diff_breathing']]\n",
    "\n",
    "\n",
    "#Sore Throat Dataset\n",
    "SoreThroat = pd.read_csv('global_symp_sore_throat_smoothed.csv')\n",
    "ST_UAE = SoreThroat.loc[SoreThroat['country'] == \"United Arab Emirates\"]\n",
    "ST_Arg = SoreThroat.loc[SoreThroat['country'] == \"Argentina\"]\n",
    "ST_Cam= SoreThroat.loc[SoreThroat['country'] == \"Cambodia\"]\n",
    "ST_Portugal = SoreThroat.loc[SoreThroat['country'] == \"Portugal\"]\n",
    "ST_Chile = SoreThroat.loc[SoreThroat['country'] == \"Chile\"]\n",
    "\n",
    "\n",
    "SoreThroat= (ST_UAE, ST_Arg, ST_Cam, ST_Portugal,ST_Chile)\n",
    "TopCountrySoreThroat= pd.concat(SoreThroat).loc[:,['smoothed_pct_symp_sore_throat']]\n",
    "\n",
    "\n",
    "#Stuffy Nose Dataset\n",
    "StuffyNose = pd.read_csv('global_symp_stuffy_nose_smoothed.csv')\n",
    "SN_UAE = StuffyNose.loc[StuffyNose['country'] == \"United Arab Emirates\"]\n",
    "SN_Arg = StuffyNose.loc[StuffyNose['country'] == \"Argentina\"]\n",
    "SN_Cam= StuffyNose.loc[StuffyNose['country'] == \"Cambodia\"]\n",
    "SN_Portugal = StuffyNose.loc[StuffyNose['country'] == \"Portugal\"]\n",
    "SN_Chile = StuffyNose.loc[StuffyNose['country'] == \"Chile\"]\n",
    "\n",
    "StuffyNose= (SN_UAE, SN_Arg, SN_Cam, SN_Portugal,SN_Chile)\n",
    "TopCountryStuffyNose= pd.concat(StuffyNose).loc[:,['smoothed_pct_symp_stuffy_nose']]\n",
    "\n"
   ]
  },
  {
   "cell_type": "code",
   "execution_count": 16,
   "id": "36f66fbf",
   "metadata": {},
   "outputs": [
    {
     "data": {
      "text/html": [
       "<div>\n",
       "<style scoped>\n",
       "    .dataframe tbody tr th:only-of-type {\n",
       "        vertical-align: middle;\n",
       "    }\n",
       "\n",
       "    .dataframe tbody tr th {\n",
       "        vertical-align: top;\n",
       "    }\n",
       "\n",
       "    .dataframe thead th {\n",
       "        text-align: right;\n",
       "    }\n",
       "</style>\n",
       "<table border=\"1\" class=\"dataframe\">\n",
       "  <thead>\n",
       "    <tr style=\"text-align: right;\">\n",
       "      <th></th>\n",
       "      <th>Country</th>\n",
       "      <th>Aches</th>\n",
       "      <th>Chest Pain</th>\n",
       "      <th>Cough</th>\n",
       "      <th>Breathing_Difficulties</th>\n",
       "      <th>Sore_Throat</th>\n",
       "      <th>Stuffy_Nose</th>\n",
       "    </tr>\n",
       "  </thead>\n",
       "  <tbody>\n",
       "    <tr>\n",
       "      <th>26934</th>\n",
       "      <td>United Arab Emirates</td>\n",
       "      <td>0.176049</td>\n",
       "      <td>0.031653</td>\n",
       "      <td>0.081791</td>\n",
       "      <td>0.042413</td>\n",
       "      <td>0.022403</td>\n",
       "      <td>0.068958</td>\n",
       "    </tr>\n",
       "    <tr>\n",
       "      <th>26935</th>\n",
       "      <td>United Arab Emirates</td>\n",
       "      <td>0.140801</td>\n",
       "      <td>0.034698</td>\n",
       "      <td>0.071178</td>\n",
       "      <td>0.029987</td>\n",
       "      <td>0.061280</td>\n",
       "      <td>0.078243</td>\n",
       "    </tr>\n",
       "    <tr>\n",
       "      <th>26936</th>\n",
       "      <td>United Arab Emirates</td>\n",
       "      <td>0.132865</td>\n",
       "      <td>0.033951</td>\n",
       "      <td>0.075594</td>\n",
       "      <td>0.032977</td>\n",
       "      <td>0.051756</td>\n",
       "      <td>0.075414</td>\n",
       "    </tr>\n",
       "    <tr>\n",
       "      <th>26937</th>\n",
       "      <td>United Arab Emirates</td>\n",
       "      <td>0.141450</td>\n",
       "      <td>0.041870</td>\n",
       "      <td>0.082420</td>\n",
       "      <td>0.035909</td>\n",
       "      <td>0.057479</td>\n",
       "      <td>0.094742</td>\n",
       "    </tr>\n",
       "    <tr>\n",
       "      <th>26938</th>\n",
       "      <td>United Arab Emirates</td>\n",
       "      <td>0.131998</td>\n",
       "      <td>0.036614</td>\n",
       "      <td>0.088284</td>\n",
       "      <td>0.029499</td>\n",
       "      <td>0.056045</td>\n",
       "      <td>0.096893</td>\n",
       "    </tr>\n",
       "    <tr>\n",
       "      <th>...</th>\n",
       "      <td>...</td>\n",
       "      <td>...</td>\n",
       "      <td>...</td>\n",
       "      <td>...</td>\n",
       "      <td>...</td>\n",
       "      <td>...</td>\n",
       "      <td>...</td>\n",
       "    </tr>\n",
       "    <tr>\n",
       "      <th>5612</th>\n",
       "      <td>Chile</td>\n",
       "      <td>0.139588</td>\n",
       "      <td>0.043515</td>\n",
       "      <td>0.100333</td>\n",
       "      <td>0.037250</td>\n",
       "      <td>0.090486</td>\n",
       "      <td>0.207263</td>\n",
       "    </tr>\n",
       "    <tr>\n",
       "      <th>5613</th>\n",
       "      <td>Chile</td>\n",
       "      <td>0.138707</td>\n",
       "      <td>0.042345</td>\n",
       "      <td>0.095938</td>\n",
       "      <td>0.037403</td>\n",
       "      <td>0.092179</td>\n",
       "      <td>0.207517</td>\n",
       "    </tr>\n",
       "    <tr>\n",
       "      <th>5614</th>\n",
       "      <td>Chile</td>\n",
       "      <td>0.141583</td>\n",
       "      <td>0.042649</td>\n",
       "      <td>0.094458</td>\n",
       "      <td>0.036573</td>\n",
       "      <td>0.091871</td>\n",
       "      <td>0.209002</td>\n",
       "    </tr>\n",
       "    <tr>\n",
       "      <th>5615</th>\n",
       "      <td>Chile</td>\n",
       "      <td>0.145636</td>\n",
       "      <td>0.043677</td>\n",
       "      <td>0.094111</td>\n",
       "      <td>0.035144</td>\n",
       "      <td>0.093442</td>\n",
       "      <td>0.210558</td>\n",
       "    </tr>\n",
       "    <tr>\n",
       "      <th>5616</th>\n",
       "      <td>Chile</td>\n",
       "      <td>0.145349</td>\n",
       "      <td>0.045343</td>\n",
       "      <td>0.095177</td>\n",
       "      <td>0.038324</td>\n",
       "      <td>0.095204</td>\n",
       "      <td>0.212446</td>\n",
       "    </tr>\n",
       "  </tbody>\n",
       "</table>\n",
       "<p>1280 rows × 7 columns</p>\n",
       "</div>"
      ],
      "text/plain": [
       "                    Country     Aches  Chest Pain     Cough  \\\n",
       "26934  United Arab Emirates  0.176049    0.031653  0.081791   \n",
       "26935  United Arab Emirates  0.140801    0.034698  0.071178   \n",
       "26936  United Arab Emirates  0.132865    0.033951  0.075594   \n",
       "26937  United Arab Emirates  0.141450    0.041870  0.082420   \n",
       "26938  United Arab Emirates  0.131998    0.036614  0.088284   \n",
       "...                     ...       ...         ...       ...   \n",
       "5612                  Chile  0.139588    0.043515  0.100333   \n",
       "5613                  Chile  0.138707    0.042345  0.095938   \n",
       "5614                  Chile  0.141583    0.042649  0.094458   \n",
       "5615                  Chile  0.145636    0.043677  0.094111   \n",
       "5616                  Chile  0.145349    0.045343  0.095177   \n",
       "\n",
       "       Breathing_Difficulties  Sore_Throat  Stuffy_Nose  \n",
       "26934                0.042413     0.022403     0.068958  \n",
       "26935                0.029987     0.061280     0.078243  \n",
       "26936                0.032977     0.051756     0.075414  \n",
       "26937                0.035909     0.057479     0.094742  \n",
       "26938                0.029499     0.056045     0.096893  \n",
       "...                       ...          ...          ...  \n",
       "5612                 0.037250     0.090486     0.207263  \n",
       "5613                 0.037403     0.092179     0.207517  \n",
       "5614                 0.036573     0.091871     0.209002  \n",
       "5615                 0.035144     0.093442     0.210558  \n",
       "5616                 0.038324     0.095204     0.212446  \n",
       "\n",
       "[1280 rows x 7 columns]"
      ]
     },
     "execution_count": 16,
     "metadata": {},
     "output_type": "execute_result"
    }
   ],
   "source": [
    "# Creating dataframe to draw insights on what role of indicators from survey is mostly and leastly found in highly vaccinated countries\n",
    "# dataframe - ToCountrySymptoms\n",
    "TopCountrySymptoms = TopCountryAches\n",
    "TopCountrySymptoms.rename(columns={'country':'Country','smoothed_pct_symp_aches':'Aches'}, inplace=True)\n",
    "TopCountrySymptoms['Chest Pain'] = TopCountryChestPain\n",
    "TopCountrySymptoms['Cough'] = TopCountryCough\n",
    "TopCountrySymptoms['Breathing_Difficulties'] = TopCountryBreathing\n",
    "TopCountrySymptoms['Sore_Throat'] = TopCountrySoreThroat\n",
    "TopCountrySymptoms['Stuffy_Nose'] = TopCountryStuffyNose\n",
    "TopCountrySymptoms\n",
    "#TopCountrySymptoms.to_csv('TopCountrySymptoms.csv',encoding = 'utf-8')"
   ]
  },
  {
   "cell_type": "code",
   "execution_count": 17,
   "id": "983807b5",
   "metadata": {},
   "outputs": [
    {
     "data": {
      "text/html": [
       "<div>\n",
       "<style scoped>\n",
       "    .dataframe tbody tr th:only-of-type {\n",
       "        vertical-align: middle;\n",
       "    }\n",
       "\n",
       "    .dataframe tbody tr th {\n",
       "        vertical-align: top;\n",
       "    }\n",
       "\n",
       "    .dataframe thead th {\n",
       "        text-align: right;\n",
       "    }\n",
       "</style>\n",
       "<table border=\"1\" class=\"dataframe\">\n",
       "  <thead>\n",
       "    <tr style=\"text-align: right;\">\n",
       "      <th></th>\n",
       "      <th>Aches</th>\n",
       "      <th>Chest Pain</th>\n",
       "      <th>Cough</th>\n",
       "      <th>Breathing_Difficulties</th>\n",
       "      <th>Sore_Throat</th>\n",
       "      <th>Stuffy_Nose</th>\n",
       "    </tr>\n",
       "  </thead>\n",
       "  <tbody>\n",
       "    <tr>\n",
       "      <th>count</th>\n",
       "      <td>1280.000000</td>\n",
       "      <td>1280.000000</td>\n",
       "      <td>1280.000000</td>\n",
       "      <td>1280.000000</td>\n",
       "      <td>1280.000000</td>\n",
       "      <td>1280.000000</td>\n",
       "    </tr>\n",
       "    <tr>\n",
       "      <th>mean</th>\n",
       "      <td>0.132621</td>\n",
       "      <td>0.043888</td>\n",
       "      <td>0.100717</td>\n",
       "      <td>0.038786</td>\n",
       "      <td>0.079654</td>\n",
       "      <td>0.154220</td>\n",
       "    </tr>\n",
       "    <tr>\n",
       "      <th>std</th>\n",
       "      <td>0.025130</td>\n",
       "      <td>0.014175</td>\n",
       "      <td>0.028815</td>\n",
       "      <td>0.012803</td>\n",
       "      <td>0.026548</td>\n",
       "      <td>0.048939</td>\n",
       "    </tr>\n",
       "    <tr>\n",
       "      <th>min</th>\n",
       "      <td>0.067166</td>\n",
       "      <td>0.014444</td>\n",
       "      <td>0.039663</td>\n",
       "      <td>0.011563</td>\n",
       "      <td>0.022403</td>\n",
       "      <td>0.059439</td>\n",
       "    </tr>\n",
       "    <tr>\n",
       "      <th>25%</th>\n",
       "      <td>0.111152</td>\n",
       "      <td>0.032858</td>\n",
       "      <td>0.078230</td>\n",
       "      <td>0.029438</td>\n",
       "      <td>0.058255</td>\n",
       "      <td>0.113363</td>\n",
       "    </tr>\n",
       "    <tr>\n",
       "      <th>50%</th>\n",
       "      <td>0.132597</td>\n",
       "      <td>0.043178</td>\n",
       "      <td>0.096885</td>\n",
       "      <td>0.036850</td>\n",
       "      <td>0.077768</td>\n",
       "      <td>0.147004</td>\n",
       "    </tr>\n",
       "    <tr>\n",
       "      <th>75%</th>\n",
       "      <td>0.153985</td>\n",
       "      <td>0.052132</td>\n",
       "      <td>0.119858</td>\n",
       "      <td>0.045170</td>\n",
       "      <td>0.098564</td>\n",
       "      <td>0.200880</td>\n",
       "    </tr>\n",
       "    <tr>\n",
       "      <th>max</th>\n",
       "      <td>0.193845</td>\n",
       "      <td>0.094113</td>\n",
       "      <td>0.200254</td>\n",
       "      <td>0.092063</td>\n",
       "      <td>0.173497</td>\n",
       "      <td>0.251012</td>\n",
       "    </tr>\n",
       "  </tbody>\n",
       "</table>\n",
       "</div>"
      ],
      "text/plain": [
       "             Aches   Chest Pain        Cough  Breathing_Difficulties  \\\n",
       "count  1280.000000  1280.000000  1280.000000             1280.000000   \n",
       "mean      0.132621     0.043888     0.100717                0.038786   \n",
       "std       0.025130     0.014175     0.028815                0.012803   \n",
       "min       0.067166     0.014444     0.039663                0.011563   \n",
       "25%       0.111152     0.032858     0.078230                0.029438   \n",
       "50%       0.132597     0.043178     0.096885                0.036850   \n",
       "75%       0.153985     0.052132     0.119858                0.045170   \n",
       "max       0.193845     0.094113     0.200254                0.092063   \n",
       "\n",
       "       Sore_Throat  Stuffy_Nose  \n",
       "count  1280.000000  1280.000000  \n",
       "mean      0.079654     0.154220  \n",
       "std       0.026548     0.048939  \n",
       "min       0.022403     0.059439  \n",
       "25%       0.058255     0.113363  \n",
       "50%       0.077768     0.147004  \n",
       "75%       0.098564     0.200880  \n",
       "max       0.173497     0.251012  "
      ]
     },
     "execution_count": 17,
     "metadata": {},
     "output_type": "execute_result"
    }
   ],
   "source": [
    "TopCountrySymptoms.describe()"
   ]
  },
  {
   "cell_type": "code",
   "execution_count": 18,
   "id": "5ec74161",
   "metadata": {},
   "outputs": [
    {
     "name": "stdout",
     "output_type": "stream",
     "text": [
      "<class 'pandas.core.frame.DataFrame'>\n",
      "Int64Index: 1280 entries, 26934 to 5616\n",
      "Data columns (total 7 columns):\n",
      " #   Column                  Non-Null Count  Dtype  \n",
      "---  ------                  --------------  -----  \n",
      " 0   Country                 1280 non-null   object \n",
      " 1   Aches                   1280 non-null   float64\n",
      " 2   Chest Pain              1280 non-null   float64\n",
      " 3   Cough                   1280 non-null   float64\n",
      " 4   Breathing_Difficulties  1280 non-null   float64\n",
      " 5   Sore_Throat             1280 non-null   float64\n",
      " 6   Stuffy_Nose             1280 non-null   float64\n",
      "dtypes: float64(6), object(1)\n",
      "memory usage: 80.0+ KB\n"
     ]
    }
   ],
   "source": [
    "TopCountrySymptoms.info()"
   ]
  },
  {
   "cell_type": "code",
   "execution_count": 19,
   "id": "3f68aa61",
   "metadata": {},
   "outputs": [
    {
     "data": {
      "text/plain": [
       "Country                   0\n",
       "Aches                     0\n",
       "Chest Pain                0\n",
       "Cough                     0\n",
       "Breathing_Difficulties    0\n",
       "Sore_Throat               0\n",
       "Stuffy_Nose               0\n",
       "dtype: int64"
      ]
     },
     "execution_count": 19,
     "metadata": {},
     "output_type": "execute_result"
    }
   ],
   "source": [
    "TopCountrySymptoms.isnull().sum()\n",
    "#no missing values"
   ]
  },
  {
   "cell_type": "code",
   "execution_count": 20,
   "id": "76c81f00",
   "metadata": {},
   "outputs": [
    {
     "data": {
      "text/plain": [
       "(1280, 7)"
      ]
     },
     "execution_count": 20,
     "metadata": {},
     "output_type": "execute_result"
    }
   ],
   "source": [
    "TopCountrySymptoms.shape\n",
    "# Theer are 1280 data points and 7 predictor variables"
   ]
  },
  {
   "cell_type": "markdown",
   "id": "43fc1e5c",
   "metadata": {},
   "source": [
    "<strong><font color ='red'>\n",
    "There are no any missing values in all the 3 dataframes. Therefore imputing missing values for the task is unnecessary. "
   ]
  },
  {
   "cell_type": "markdown",
   "id": "4d4c19ff",
   "metadata": {},
   "source": [
    "### <u><p><font color=\"crimson\"> 3.1.  Analysis between top 5 countries ranked for vaccination against Covid 19 and lowest 5 countries having vaccination rates. </u> <a class=\"anchor\" id=\"section_3_1\"></a> "
   ]
  },
  {
   "cell_type": "code",
   "execution_count": 21,
   "id": "1e2279b7",
   "metadata": {},
   "outputs": [
    {
     "name": "stdout",
     "output_type": "stream",
     "text": [
      "Requirement already satisfied: matplotlib in /Users/menuka/opt/anaconda3/lib/python3.9/site-packages (3.4.3)\n",
      "Requirement already satisfied: cycler>=0.10 in /Users/menuka/opt/anaconda3/lib/python3.9/site-packages (from matplotlib) (0.10.0)\n",
      "Requirement already satisfied: kiwisolver>=1.0.1 in /Users/menuka/opt/anaconda3/lib/python3.9/site-packages (from matplotlib) (1.3.1)\n",
      "Requirement already satisfied: python-dateutil>=2.7 in /Users/menuka/opt/anaconda3/lib/python3.9/site-packages (from matplotlib) (2.8.2)\n",
      "Requirement already satisfied: pillow>=6.2.0 in /Users/menuka/opt/anaconda3/lib/python3.9/site-packages (from matplotlib) (8.4.0)\n",
      "Requirement already satisfied: numpy>=1.16 in /Users/menuka/opt/anaconda3/lib/python3.9/site-packages (from matplotlib) (1.20.3)\n",
      "Requirement already satisfied: pyparsing>=2.2.1 in /Users/menuka/opt/anaconda3/lib/python3.9/site-packages (from matplotlib) (3.0.4)\n",
      "Requirement already satisfied: six in /Users/menuka/opt/anaconda3/lib/python3.9/site-packages (from cycler>=0.10->matplotlib) (1.16.0)\n"
     ]
    }
   ],
   "source": [
    "import sys\n",
    "!{sys.executable} -m pip install matplotlib"
   ]
  },
  {
   "cell_type": "code",
   "execution_count": 22,
   "id": "1d30f646",
   "metadata": {},
   "outputs": [],
   "source": [
    "import matplotlib as  mpl\n",
    "%matplotlib inline"
   ]
  },
  {
   "cell_type": "code",
   "execution_count": 27,
   "id": "95dc4e98",
   "metadata": {},
   "outputs": [],
   "source": [
    "import folium"
   ]
  },
  {
   "cell_type": "code",
   "execution_count": 28,
   "id": "d67788b9",
   "metadata": {
    "scrolled": true
   },
   "outputs": [
    {
     "data": {
      "text/html": [
       "<div style=\"width:100%;\"><div style=\"position:relative;width:100%;height:0;padding-bottom:60%;\"><span style=\"color:#565656\">Make this Notebook Trusted to load map: File -> Trust Notebook</span><iframe src=\"about:blank\" style=\"position:absolute;width:100%;height:100%;left:0;top:0;border:none !important;\" data-html=%3C%21DOCTYPE%20html%3E%0A%3Chead%3E%20%20%20%20%0A%20%20%20%20%3Cmeta%20http-equiv%3D%22content-type%22%20content%3D%22text/html%3B%20charset%3DUTF-8%22%20/%3E%0A%20%20%20%20%0A%20%20%20%20%20%20%20%20%3Cscript%3E%0A%20%20%20%20%20%20%20%20%20%20%20%20L_NO_TOUCH%20%3D%20false%3B%0A%20%20%20%20%20%20%20%20%20%20%20%20L_DISABLE_3D%20%3D%20false%3B%0A%20%20%20%20%20%20%20%20%3C/script%3E%0A%20%20%20%20%0A%20%20%20%20%3Cstyle%3Ehtml%2C%20body%20%7Bwidth%3A%20100%25%3Bheight%3A%20100%25%3Bmargin%3A%200%3Bpadding%3A%200%3B%7D%3C/style%3E%0A%20%20%20%20%3Cstyle%3E%23map%20%7Bposition%3Aabsolute%3Btop%3A0%3Bbottom%3A0%3Bright%3A0%3Bleft%3A0%3B%7D%3C/style%3E%0A%20%20%20%20%3Cscript%20src%3D%22https%3A//cdn.jsdelivr.net/npm/leaflet%401.6.0/dist/leaflet.js%22%3E%3C/script%3E%0A%20%20%20%20%3Cscript%20src%3D%22https%3A//code.jquery.com/jquery-1.12.4.min.js%22%3E%3C/script%3E%0A%20%20%20%20%3Cscript%20src%3D%22https%3A//maxcdn.bootstrapcdn.com/bootstrap/3.2.0/js/bootstrap.min.js%22%3E%3C/script%3E%0A%20%20%20%20%3Cscript%20src%3D%22https%3A//cdnjs.cloudflare.com/ajax/libs/Leaflet.awesome-markers/2.0.2/leaflet.awesome-markers.js%22%3E%3C/script%3E%0A%20%20%20%20%3Clink%20rel%3D%22stylesheet%22%20href%3D%22https%3A//cdn.jsdelivr.net/npm/leaflet%401.6.0/dist/leaflet.css%22/%3E%0A%20%20%20%20%3Clink%20rel%3D%22stylesheet%22%20href%3D%22https%3A//maxcdn.bootstrapcdn.com/bootstrap/3.2.0/css/bootstrap.min.css%22/%3E%0A%20%20%20%20%3Clink%20rel%3D%22stylesheet%22%20href%3D%22https%3A//maxcdn.bootstrapcdn.com/bootstrap/3.2.0/css/bootstrap-theme.min.css%22/%3E%0A%20%20%20%20%3Clink%20rel%3D%22stylesheet%22%20href%3D%22https%3A//maxcdn.bootstrapcdn.com/font-awesome/4.6.3/css/font-awesome.min.css%22/%3E%0A%20%20%20%20%3Clink%20rel%3D%22stylesheet%22%20href%3D%22https%3A//cdnjs.cloudflare.com/ajax/libs/Leaflet.awesome-markers/2.0.2/leaflet.awesome-markers.css%22/%3E%0A%20%20%20%20%3Clink%20rel%3D%22stylesheet%22%20href%3D%22https%3A//cdn.jsdelivr.net/gh/python-visualization/folium/folium/templates/leaflet.awesome.rotate.min.css%22/%3E%0A%20%20%20%20%0A%20%20%20%20%20%20%20%20%20%20%20%20%3Cmeta%20name%3D%22viewport%22%20content%3D%22width%3Ddevice-width%2C%0A%20%20%20%20%20%20%20%20%20%20%20%20%20%20%20%20initial-scale%3D1.0%2C%20maximum-scale%3D1.0%2C%20user-scalable%3Dno%22%20/%3E%0A%20%20%20%20%20%20%20%20%20%20%20%20%3Cstyle%3E%0A%20%20%20%20%20%20%20%20%20%20%20%20%20%20%20%20%23map_576420cabe1e4a719432d018e55b258c%20%7B%0A%20%20%20%20%20%20%20%20%20%20%20%20%20%20%20%20%20%20%20%20position%3A%20relative%3B%0A%20%20%20%20%20%20%20%20%20%20%20%20%20%20%20%20%20%20%20%20width%3A%20100.0%25%3B%0A%20%20%20%20%20%20%20%20%20%20%20%20%20%20%20%20%20%20%20%20height%3A%20100.0%25%3B%0A%20%20%20%20%20%20%20%20%20%20%20%20%20%20%20%20%20%20%20%20left%3A%200.0%25%3B%0A%20%20%20%20%20%20%20%20%20%20%20%20%20%20%20%20%20%20%20%20top%3A%200.0%25%3B%0A%20%20%20%20%20%20%20%20%20%20%20%20%20%20%20%20%7D%0A%20%20%20%20%20%20%20%20%20%20%20%20%3C/style%3E%0A%20%20%20%20%20%20%20%20%0A%3C/head%3E%0A%3Cbody%3E%20%20%20%20%0A%20%20%20%20%0A%20%20%20%20%20%20%20%20%20%20%20%20%3Cdiv%20class%3D%22folium-map%22%20id%3D%22map_576420cabe1e4a719432d018e55b258c%22%20%3E%3C/div%3E%0A%20%20%20%20%20%20%20%20%0A%3C/body%3E%0A%3Cscript%3E%20%20%20%20%0A%20%20%20%20%0A%20%20%20%20%20%20%20%20%20%20%20%20var%20map_576420cabe1e4a719432d018e55b258c%20%3D%20L.map%28%0A%20%20%20%20%20%20%20%20%20%20%20%20%20%20%20%20%22map_576420cabe1e4a719432d018e55b258c%22%2C%0A%20%20%20%20%20%20%20%20%20%20%20%20%20%20%20%20%7B%0A%20%20%20%20%20%20%20%20%20%20%20%20%20%20%20%20%20%20%20%20center%3A%20%5B20.0%2C%200.0%5D%2C%0A%20%20%20%20%20%20%20%20%20%20%20%20%20%20%20%20%20%20%20%20crs%3A%20L.CRS.EPSG3857%2C%0A%20%20%20%20%20%20%20%20%20%20%20%20%20%20%20%20%20%20%20%20zoom%3A%202.1%2C%0A%20%20%20%20%20%20%20%20%20%20%20%20%20%20%20%20%20%20%20%20zoomControl%3A%20true%2C%0A%20%20%20%20%20%20%20%20%20%20%20%20%20%20%20%20%20%20%20%20preferCanvas%3A%20false%2C%0A%20%20%20%20%20%20%20%20%20%20%20%20%20%20%20%20%7D%0A%20%20%20%20%20%20%20%20%20%20%20%20%29%3B%0A%0A%20%20%20%20%20%20%20%20%20%20%20%20%0A%0A%20%20%20%20%20%20%20%20%0A%20%20%20%20%0A%20%20%20%20%20%20%20%20%20%20%20%20var%20tile_layer_f4fc0e57b90f427bb224f3d607bd458e%20%3D%20L.tileLayer%28%0A%20%20%20%20%20%20%20%20%20%20%20%20%20%20%20%20%22https%3A//%7Bs%7D.tile.openstreetmap.org/%7Bz%7D/%7Bx%7D/%7By%7D.png%22%2C%0A%20%20%20%20%20%20%20%20%20%20%20%20%20%20%20%20%7B%22attribution%22%3A%20%22Data%20by%20%5Cu0026copy%3B%20%5Cu003ca%20href%3D%5C%22http%3A//openstreetmap.org%5C%22%5Cu003eOpenStreetMap%5Cu003c/a%5Cu003e%2C%20under%20%5Cu003ca%20href%3D%5C%22http%3A//www.openstreetmap.org/copyright%5C%22%5Cu003eODbL%5Cu003c/a%5Cu003e.%22%2C%20%22detectRetina%22%3A%20false%2C%20%22maxNativeZoom%22%3A%2018%2C%20%22maxZoom%22%3A%2018%2C%20%22minZoom%22%3A%200%2C%20%22noWrap%22%3A%20false%2C%20%22opacity%22%3A%201%2C%20%22subdomains%22%3A%20%22abc%22%2C%20%22tms%22%3A%20false%7D%0A%20%20%20%20%20%20%20%20%20%20%20%20%29.addTo%28map_576420cabe1e4a719432d018e55b258c%29%3B%0A%20%20%20%20%20%20%20%20%0A%20%20%20%20%0A%20%20%20%20%20%20%20%20%20%20%20%20var%20marker_57fb3fec2a3146a382ceb083f4d4e20b%20%3D%20L.marker%28%0A%20%20%20%20%20%20%20%20%20%20%20%20%20%20%20%20%5B23.424076%2C%2053.847818%5D%2C%0A%20%20%20%20%20%20%20%20%20%20%20%20%20%20%20%20%7B%7D%0A%20%20%20%20%20%20%20%20%20%20%20%20%29.addTo%28map_576420cabe1e4a719432d018e55b258c%29%3B%0A%20%20%20%20%20%20%20%20%0A%20%20%20%20%0A%20%20%20%20%20%20%20%20var%20popup_f9acb972e3164d3291920e26afc5d71c%20%3D%20L.popup%28%7B%22maxWidth%22%3A%20%22100%25%22%7D%29%3B%0A%0A%20%20%20%20%20%20%20%20%0A%20%20%20%20%20%20%20%20%20%20%20%20var%20html_47a5a97ebb1c43829d76289c8d9b400f%20%3D%20%24%28%60%3Cdiv%20id%3D%22html_47a5a97ebb1c43829d76289c8d9b400f%22%20style%3D%22width%3A%20100.0%25%3B%20height%3A%20100.0%25%3B%22%3EUnited%20Arab%20Emirates%3C/div%3E%60%29%5B0%5D%3B%0A%20%20%20%20%20%20%20%20%20%20%20%20popup_f9acb972e3164d3291920e26afc5d71c.setContent%28html_47a5a97ebb1c43829d76289c8d9b400f%29%3B%0A%20%20%20%20%20%20%20%20%0A%0A%20%20%20%20%20%20%20%20marker_57fb3fec2a3146a382ceb083f4d4e20b.bindPopup%28popup_f9acb972e3164d3291920e26afc5d71c%29%0A%20%20%20%20%20%20%20%20%3B%0A%0A%20%20%20%20%20%20%20%20%0A%20%20%20%20%0A%20%20%20%20%0A%20%20%20%20%20%20%20%20%20%20%20%20var%20marker_04048128fcc242d1ac6c2550f87f249a%20%3D%20L.marker%28%0A%20%20%20%20%20%20%20%20%20%20%20%20%20%20%20%20%5B-38.4161%2C%20-63.6167%5D%2C%0A%20%20%20%20%20%20%20%20%20%20%20%20%20%20%20%20%7B%7D%0A%20%20%20%20%20%20%20%20%20%20%20%20%29.addTo%28map_576420cabe1e4a719432d018e55b258c%29%3B%0A%20%20%20%20%20%20%20%20%0A%20%20%20%20%0A%20%20%20%20%20%20%20%20var%20popup_dbcca914df79450da3819c9be4c75599%20%3D%20L.popup%28%7B%22maxWidth%22%3A%20%22100%25%22%7D%29%3B%0A%0A%20%20%20%20%20%20%20%20%0A%20%20%20%20%20%20%20%20%20%20%20%20var%20html_2d37ecc7b6604cb789d32b8bad3c79fc%20%3D%20%24%28%60%3Cdiv%20id%3D%22html_2d37ecc7b6604cb789d32b8bad3c79fc%22%20style%3D%22width%3A%20100.0%25%3B%20height%3A%20100.0%25%3B%22%3EArgentina%3C/div%3E%60%29%5B0%5D%3B%0A%20%20%20%20%20%20%20%20%20%20%20%20popup_dbcca914df79450da3819c9be4c75599.setContent%28html_2d37ecc7b6604cb789d32b8bad3c79fc%29%3B%0A%20%20%20%20%20%20%20%20%0A%0A%20%20%20%20%20%20%20%20marker_04048128fcc242d1ac6c2550f87f249a.bindPopup%28popup_dbcca914df79450da3819c9be4c75599%29%0A%20%20%20%20%20%20%20%20%3B%0A%0A%20%20%20%20%20%20%20%20%0A%20%20%20%20%0A%20%20%20%20%0A%20%20%20%20%20%20%20%20%20%20%20%20var%20marker_5ebf585cc13e40ee8ed9356fc6352b34%20%3D%20L.marker%28%0A%20%20%20%20%20%20%20%20%20%20%20%20%20%20%20%20%5B11.55%2C%20104.9167%5D%2C%0A%20%20%20%20%20%20%20%20%20%20%20%20%20%20%20%20%7B%7D%0A%20%20%20%20%20%20%20%20%20%20%20%20%29.addTo%28map_576420cabe1e4a719432d018e55b258c%29%3B%0A%20%20%20%20%20%20%20%20%0A%20%20%20%20%0A%20%20%20%20%20%20%20%20var%20popup_f059f2cb2f4c4cc0b017b080d8ce483a%20%3D%20L.popup%28%7B%22maxWidth%22%3A%20%22100%25%22%7D%29%3B%0A%0A%20%20%20%20%20%20%20%20%0A%20%20%20%20%20%20%20%20%20%20%20%20var%20html_77d1c0a40796413194076795af48c7ff%20%3D%20%24%28%60%3Cdiv%20id%3D%22html_77d1c0a40796413194076795af48c7ff%22%20style%3D%22width%3A%20100.0%25%3B%20height%3A%20100.0%25%3B%22%3ECambodia%3C/div%3E%60%29%5B0%5D%3B%0A%20%20%20%20%20%20%20%20%20%20%20%20popup_f059f2cb2f4c4cc0b017b080d8ce483a.setContent%28html_77d1c0a40796413194076795af48c7ff%29%3B%0A%20%20%20%20%20%20%20%20%0A%0A%20%20%20%20%20%20%20%20marker_5ebf585cc13e40ee8ed9356fc6352b34.bindPopup%28popup_f059f2cb2f4c4cc0b017b080d8ce483a%29%0A%20%20%20%20%20%20%20%20%3B%0A%0A%20%20%20%20%20%20%20%20%0A%20%20%20%20%0A%20%20%20%20%0A%20%20%20%20%20%20%20%20%20%20%20%20var%20marker_08636fae90d54286b4a21354573c3a29%20%3D%20L.marker%28%0A%20%20%20%20%20%20%20%20%20%20%20%20%20%20%20%20%5B39.3999%2C%20-8.2245%5D%2C%0A%20%20%20%20%20%20%20%20%20%20%20%20%20%20%20%20%7B%7D%0A%20%20%20%20%20%20%20%20%20%20%20%20%29.addTo%28map_576420cabe1e4a719432d018e55b258c%29%3B%0A%20%20%20%20%20%20%20%20%0A%20%20%20%20%0A%20%20%20%20%20%20%20%20var%20popup_ec4291ad31344b2387c3f5c7aa1dd312%20%3D%20L.popup%28%7B%22maxWidth%22%3A%20%22100%25%22%7D%29%3B%0A%0A%20%20%20%20%20%20%20%20%0A%20%20%20%20%20%20%20%20%20%20%20%20var%20html_4e979db255744b119c5bb0219dac1ca4%20%3D%20%24%28%60%3Cdiv%20id%3D%22html_4e979db255744b119c5bb0219dac1ca4%22%20style%3D%22width%3A%20100.0%25%3B%20height%3A%20100.0%25%3B%22%3EPortugal%3C/div%3E%60%29%5B0%5D%3B%0A%20%20%20%20%20%20%20%20%20%20%20%20popup_ec4291ad31344b2387c3f5c7aa1dd312.setContent%28html_4e979db255744b119c5bb0219dac1ca4%29%3B%0A%20%20%20%20%20%20%20%20%0A%0A%20%20%20%20%20%20%20%20marker_08636fae90d54286b4a21354573c3a29.bindPopup%28popup_ec4291ad31344b2387c3f5c7aa1dd312%29%0A%20%20%20%20%20%20%20%20%3B%0A%0A%20%20%20%20%20%20%20%20%0A%20%20%20%20%0A%20%20%20%20%0A%20%20%20%20%20%20%20%20%20%20%20%20var%20marker_181ab2234c1547c994114821ac3eef78%20%3D%20L.marker%28%0A%20%20%20%20%20%20%20%20%20%20%20%20%20%20%20%20%5B-35.6751%2C%20-71.543%5D%2C%0A%20%20%20%20%20%20%20%20%20%20%20%20%20%20%20%20%7B%7D%0A%20%20%20%20%20%20%20%20%20%20%20%20%29.addTo%28map_576420cabe1e4a719432d018e55b258c%29%3B%0A%20%20%20%20%20%20%20%20%0A%20%20%20%20%0A%20%20%20%20%20%20%20%20var%20popup_99b176c4f7b3405b8b9a4e012ed0a8ec%20%3D%20L.popup%28%7B%22maxWidth%22%3A%20%22100%25%22%7D%29%3B%0A%0A%20%20%20%20%20%20%20%20%0A%20%20%20%20%20%20%20%20%20%20%20%20var%20html_99952309eec24e4fb69a96ab3cacc966%20%3D%20%24%28%60%3Cdiv%20id%3D%22html_99952309eec24e4fb69a96ab3cacc966%22%20style%3D%22width%3A%20100.0%25%3B%20height%3A%20100.0%25%3B%22%3EChile%3C/div%3E%60%29%5B0%5D%3B%0A%20%20%20%20%20%20%20%20%20%20%20%20popup_99b176c4f7b3405b8b9a4e012ed0a8ec.setContent%28html_99952309eec24e4fb69a96ab3cacc966%29%3B%0A%20%20%20%20%20%20%20%20%0A%0A%20%20%20%20%20%20%20%20marker_181ab2234c1547c994114821ac3eef78.bindPopup%28popup_99b176c4f7b3405b8b9a4e012ed0a8ec%29%0A%20%20%20%20%20%20%20%20%3B%0A%0A%20%20%20%20%20%20%20%20%0A%20%20%20%20%0A%20%20%20%20%0A%20%20%20%20%20%20%20%20%20%20%20%20var%20marker_318722ac1f4443ce94c9cff18fcffb5b%20%3D%20L.marker%28%0A%20%20%20%20%20%20%20%20%20%20%20%20%20%20%20%20%5B-18.766947%2C%2046.869107%5D%2C%0A%20%20%20%20%20%20%20%20%20%20%20%20%20%20%20%20%7B%7D%0A%20%20%20%20%20%20%20%20%20%20%20%20%29.addTo%28map_576420cabe1e4a719432d018e55b258c%29%3B%0A%20%20%20%20%20%20%20%20%0A%20%20%20%20%0A%20%20%20%20%20%20%20%20var%20popup_f4614f4ce813437c8b370a49381cfa60%20%3D%20L.popup%28%7B%22maxWidth%22%3A%20%22100%25%22%7D%29%3B%0A%0A%20%20%20%20%20%20%20%20%0A%20%20%20%20%20%20%20%20%20%20%20%20var%20html_0c8f635ef27e4502bff100f543a5ad43%20%3D%20%24%28%60%3Cdiv%20id%3D%22html_0c8f635ef27e4502bff100f543a5ad43%22%20style%3D%22width%3A%20100.0%25%3B%20height%3A%20100.0%25%3B%22%3EMadagascar%3C/div%3E%60%29%5B0%5D%3B%0A%20%20%20%20%20%20%20%20%20%20%20%20popup_f4614f4ce813437c8b370a49381cfa60.setContent%28html_0c8f635ef27e4502bff100f543a5ad43%29%3B%0A%20%20%20%20%20%20%20%20%0A%0A%20%20%20%20%20%20%20%20marker_318722ac1f4443ce94c9cff18fcffb5b.bindPopup%28popup_f4614f4ce813437c8b370a49381cfa60%29%0A%20%20%20%20%20%20%20%20%3B%0A%0A%20%20%20%20%20%20%20%20%0A%20%20%20%20%0A%20%20%20%20%0A%20%20%20%20%20%20%20%20%20%20%20%20var%20marker_ebc470b145ae45b784ff9edae96ba4a7%20%3D%20L.marker%28%0A%20%20%20%20%20%20%20%20%20%20%20%20%20%20%20%20%5B3.848%2C%2011.5021%5D%2C%0A%20%20%20%20%20%20%20%20%20%20%20%20%20%20%20%20%7B%7D%0A%20%20%20%20%20%20%20%20%20%20%20%20%29.addTo%28map_576420cabe1e4a719432d018e55b258c%29%3B%0A%20%20%20%20%20%20%20%20%0A%20%20%20%20%0A%20%20%20%20%20%20%20%20var%20popup_d62792cbc0b246ad97c729652219ce1f%20%3D%20L.popup%28%7B%22maxWidth%22%3A%20%22100%25%22%7D%29%3B%0A%0A%20%20%20%20%20%20%20%20%0A%20%20%20%20%20%20%20%20%20%20%20%20var%20html_79c7ce2b8ff3470586a33b390ebf3160%20%3D%20%24%28%60%3Cdiv%20id%3D%22html_79c7ce2b8ff3470586a33b390ebf3160%22%20style%3D%22width%3A%20100.0%25%3B%20height%3A%20100.0%25%3B%22%3ECameroon%3C/div%3E%60%29%5B0%5D%3B%0A%20%20%20%20%20%20%20%20%20%20%20%20popup_d62792cbc0b246ad97c729652219ce1f.setContent%28html_79c7ce2b8ff3470586a33b390ebf3160%29%3B%0A%20%20%20%20%20%20%20%20%0A%0A%20%20%20%20%20%20%20%20marker_ebc470b145ae45b784ff9edae96ba4a7.bindPopup%28popup_d62792cbc0b246ad97c729652219ce1f%29%0A%20%20%20%20%20%20%20%20%3B%0A%0A%20%20%20%20%20%20%20%20%0A%20%20%20%20%0A%20%20%20%20%0A%20%20%20%20%20%20%20%20%20%20%20%20var%20marker_f277d72c5a594f7f856cda57ab870266%20%3D%20L.marker%28%0A%20%20%20%20%20%20%20%20%20%20%20%20%20%20%20%20%5B-6.369028%2C%2034.888822%5D%2C%0A%20%20%20%20%20%20%20%20%20%20%20%20%20%20%20%20%7B%7D%0A%20%20%20%20%20%20%20%20%20%20%20%20%29.addTo%28map_576420cabe1e4a719432d018e55b258c%29%3B%0A%20%20%20%20%20%20%20%20%0A%20%20%20%20%0A%20%20%20%20%20%20%20%20var%20popup_0c9c4b100e68401a84e53a1d6e1804e5%20%3D%20L.popup%28%7B%22maxWidth%22%3A%20%22100%25%22%7D%29%3B%0A%0A%20%20%20%20%20%20%20%20%0A%20%20%20%20%20%20%20%20%20%20%20%20var%20html_e37e8dccd3714611a75a5f6a754e5eff%20%3D%20%24%28%60%3Cdiv%20id%3D%22html_e37e8dccd3714611a75a5f6a754e5eff%22%20style%3D%22width%3A%20100.0%25%3B%20height%3A%20100.0%25%3B%22%3ETanzania%3C/div%3E%60%29%5B0%5D%3B%0A%20%20%20%20%20%20%20%20%20%20%20%20popup_0c9c4b100e68401a84e53a1d6e1804e5.setContent%28html_e37e8dccd3714611a75a5f6a754e5eff%29%3B%0A%20%20%20%20%20%20%20%20%0A%0A%20%20%20%20%20%20%20%20marker_f277d72c5a594f7f856cda57ab870266.bindPopup%28popup_0c9c4b100e68401a84e53a1d6e1804e5%29%0A%20%20%20%20%20%20%20%20%3B%0A%0A%20%20%20%20%20%20%20%20%0A%20%20%20%20%0A%20%20%20%20%0A%20%20%20%20%20%20%20%20%20%20%20%20var%20marker_bf912e57c7a14f8db3d27985b462f8bc%20%3D%20L.marker%28%0A%20%20%20%20%20%20%20%20%20%20%20%20%20%20%20%20%5B18.9712%2C%20-72.2852%5D%2C%0A%20%20%20%20%20%20%20%20%20%20%20%20%20%20%20%20%7B%7D%0A%20%20%20%20%20%20%20%20%20%20%20%20%29.addTo%28map_576420cabe1e4a719432d018e55b258c%29%3B%0A%20%20%20%20%20%20%20%20%0A%20%20%20%20%0A%20%20%20%20%20%20%20%20var%20popup_06cf480a1f564fa784564981a10696d5%20%3D%20L.popup%28%7B%22maxWidth%22%3A%20%22100%25%22%7D%29%3B%0A%0A%20%20%20%20%20%20%20%20%0A%20%20%20%20%20%20%20%20%20%20%20%20var%20html_572c467d208846e3af0242fbcbc59f0b%20%3D%20%24%28%60%3Cdiv%20id%3D%22html_572c467d208846e3af0242fbcbc59f0b%22%20style%3D%22width%3A%20100.0%25%3B%20height%3A%20100.0%25%3B%22%3EHaiti%3C/div%3E%60%29%5B0%5D%3B%0A%20%20%20%20%20%20%20%20%20%20%20%20popup_06cf480a1f564fa784564981a10696d5.setContent%28html_572c467d208846e3af0242fbcbc59f0b%29%3B%0A%20%20%20%20%20%20%20%20%0A%0A%20%20%20%20%20%20%20%20marker_bf912e57c7a14f8db3d27985b462f8bc.bindPopup%28popup_06cf480a1f564fa784564981a10696d5%29%0A%20%20%20%20%20%20%20%20%3B%0A%0A%20%20%20%20%20%20%20%20%0A%20%20%20%20%0A%20%20%20%20%0A%20%20%20%20%20%20%20%20%20%20%20%20var%20marker_17471095b1ae42b8977217fa37e69f92%20%3D%20L.marker%28%0A%20%20%20%20%20%20%20%20%20%20%20%20%20%20%20%20%5B15.552727%2C%2048.516388%5D%2C%0A%20%20%20%20%20%20%20%20%20%20%20%20%20%20%20%20%7B%7D%0A%20%20%20%20%20%20%20%20%20%20%20%20%29.addTo%28map_576420cabe1e4a719432d018e55b258c%29%3B%0A%20%20%20%20%20%20%20%20%0A%20%20%20%20%0A%20%20%20%20%20%20%20%20var%20popup_95f8cdd94bc446b891058655c4ec830d%20%3D%20L.popup%28%7B%22maxWidth%22%3A%20%22100%25%22%7D%29%3B%0A%0A%20%20%20%20%20%20%20%20%0A%20%20%20%20%20%20%20%20%20%20%20%20var%20html_eacbc18a127349749ca804fa77ad729e%20%3D%20%24%28%60%3Cdiv%20id%3D%22html_eacbc18a127349749ca804fa77ad729e%22%20style%3D%22width%3A%20100.0%25%3B%20height%3A%20100.0%25%3B%22%3EYemen%3C/div%3E%60%29%5B0%5D%3B%0A%20%20%20%20%20%20%20%20%20%20%20%20popup_95f8cdd94bc446b891058655c4ec830d.setContent%28html_eacbc18a127349749ca804fa77ad729e%29%3B%0A%20%20%20%20%20%20%20%20%0A%0A%20%20%20%20%20%20%20%20marker_17471095b1ae42b8977217fa37e69f92.bindPopup%28popup_95f8cdd94bc446b891058655c4ec830d%29%0A%20%20%20%20%20%20%20%20%3B%0A%0A%20%20%20%20%20%20%20%20%0A%20%20%20%20%0A%20%20%20%20%0A%20%20%20%20%20%20%20%20%20%20%20%20var%20circle_9c2eeaae2eb24b4b8c87589e73250a37%20%3D%20L.circle%28%0A%20%20%20%20%20%20%20%20%20%20%20%20%20%20%20%20%5B23.424076%2C%2053.847818%5D%2C%0A%20%20%20%20%20%20%20%20%20%20%20%20%20%20%20%20%7B%22bubblingMouseEvents%22%3A%20true%2C%20%22color%22%3A%20%22Green%22%2C%20%22dashArray%22%3A%20null%2C%20%22dashOffset%22%3A%20null%2C%20%22fill%22%3A%20true%2C%20%22fillColor%22%3A%20%22Green%22%2C%20%22fillOpacity%22%3A%200.2%2C%20%22fillRule%22%3A%20%22evenodd%22%2C%20%22lineCap%22%3A%20%22round%22%2C%20%22lineJoin%22%3A%20%22round%22%2C%20%22opacity%22%3A%201.0%2C%20%22radius%22%3A%2036940%2C%20%22stroke%22%3A%20true%2C%20%22weight%22%3A%203%7D%0A%20%20%20%20%20%20%20%20%20%20%20%20%29.addTo%28map_576420cabe1e4a719432d018e55b258c%29%3B%0A%20%20%20%20%20%20%20%20%0A%20%20%20%20%0A%20%20%20%20%20%20%20%20var%20popup_e53ff5d414bc489297fef7a59d2a46af%20%3D%20L.popup%28%7B%22maxWidth%22%3A%20%22100%25%22%7D%29%3B%0A%0A%20%20%20%20%20%20%20%20%0A%20%20%20%20%20%20%20%20%20%20%20%20var%20html_90df363e125e4be0a0eba7658141836b%20%3D%20%24%28%60%3Cdiv%20id%3D%22html_90df363e125e4be0a0eba7658141836b%22%20style%3D%22width%3A%20100.0%25%3B%20height%3A%20100.0%25%3B%22%3E1847%3C/div%3E%60%29%5B0%5D%3B%0A%20%20%20%20%20%20%20%20%20%20%20%20popup_e53ff5d414bc489297fef7a59d2a46af.setContent%28html_90df363e125e4be0a0eba7658141836b%29%3B%0A%20%20%20%20%20%20%20%20%0A%0A%20%20%20%20%20%20%20%20circle_9c2eeaae2eb24b4b8c87589e73250a37.bindPopup%28popup_e53ff5d414bc489297fef7a59d2a46af%29%0A%20%20%20%20%20%20%20%20%3B%0A%0A%20%20%20%20%20%20%20%20%0A%20%20%20%20%0A%20%20%20%20%0A%20%20%20%20%20%20%20%20%20%20%20%20var%20circle_8fa65256e79a47ed8c938f70d9b95009%20%3D%20L.circle%28%0A%20%20%20%20%20%20%20%20%20%20%20%20%20%20%20%20%5B-38.4161%2C%20-63.6167%5D%2C%0A%20%20%20%20%20%20%20%20%20%20%20%20%20%20%20%20%7B%22bubblingMouseEvents%22%3A%20true%2C%20%22color%22%3A%20%22Green%22%2C%20%22dashArray%22%3A%20null%2C%20%22dashOffset%22%3A%20null%2C%20%22fill%22%3A%20true%2C%20%22fillColor%22%3A%20%22Green%22%2C%20%22fillOpacity%22%3A%200.2%2C%20%22fillRule%22%3A%20%22evenodd%22%2C%20%22lineCap%22%3A%20%22round%22%2C%20%22lineJoin%22%3A%20%22round%22%2C%20%22opacity%22%3A%201.0%2C%20%22radius%22%3A%201948780%2C%20%22stroke%22%3A%20true%2C%20%22weight%22%3A%203%7D%0A%20%20%20%20%20%20%20%20%20%20%20%20%29.addTo%28map_576420cabe1e4a719432d018e55b258c%29%3B%0A%20%20%20%20%20%20%20%20%0A%20%20%20%20%0A%20%20%20%20%20%20%20%20var%20popup_32102d71001347bab7ef7955f0f11bea%20%3D%20L.popup%28%7B%22maxWidth%22%3A%20%22100%25%22%7D%29%3B%0A%0A%20%20%20%20%20%20%20%20%0A%20%20%20%20%20%20%20%20%20%20%20%20var%20html_accf4e2dec5248a39f08b436edd7b201%20%3D%20%24%28%60%3Cdiv%20id%3D%22html_accf4e2dec5248a39f08b436edd7b201%22%20style%3D%22width%3A%20100.0%25%3B%20height%3A%20100.0%25%3B%22%3E97439%3C/div%3E%60%29%5B0%5D%3B%0A%20%20%20%20%20%20%20%20%20%20%20%20popup_32102d71001347bab7ef7955f0f11bea.setContent%28html_accf4e2dec5248a39f08b436edd7b201%29%3B%0A%20%20%20%20%20%20%20%20%0A%0A%20%20%20%20%20%20%20%20circle_8fa65256e79a47ed8c938f70d9b95009.bindPopup%28popup_32102d71001347bab7ef7955f0f11bea%29%0A%20%20%20%20%20%20%20%20%3B%0A%0A%20%20%20%20%20%20%20%20%0A%20%20%20%20%0A%20%20%20%20%0A%20%20%20%20%20%20%20%20%20%20%20%20var%20circle_b510911a29494037aebd70fb2c226839%20%3D%20L.circle%28%0A%20%20%20%20%20%20%20%20%20%20%20%20%20%20%20%20%5B11.55%2C%20104.9167%5D%2C%0A%20%20%20%20%20%20%20%20%20%20%20%20%20%20%20%20%7B%22bubblingMouseEvents%22%3A%20true%2C%20%22color%22%3A%20%22Green%22%2C%20%22dashArray%22%3A%20null%2C%20%22dashOffset%22%3A%20null%2C%20%22fill%22%3A%20true%2C%20%22fillColor%22%3A%20%22Green%22%2C%20%22fillOpacity%22%3A%200.2%2C%20%22fillRule%22%3A%20%22evenodd%22%2C%20%22lineCap%22%3A%20%22round%22%2C%20%22lineJoin%22%3A%20%22round%22%2C%20%22opacity%22%3A%201.0%2C%20%22radius%22%3A%2015960%2C%20%22stroke%22%3A%20true%2C%20%22weight%22%3A%203%7D%0A%20%20%20%20%20%20%20%20%20%20%20%20%29.addTo%28map_576420cabe1e4a719432d018e55b258c%29%3B%0A%20%20%20%20%20%20%20%20%0A%20%20%20%20%0A%20%20%20%20%20%20%20%20var%20popup_f12bafebe2eb48e2a00842b4f43a2480%20%3D%20L.popup%28%7B%22maxWidth%22%3A%20%22100%25%22%7D%29%3B%0A%0A%20%20%20%20%20%20%20%20%0A%20%20%20%20%20%20%20%20%20%20%20%20var%20html_43f58ec3f4244539bfc0590d5793ef26%20%3D%20%24%28%60%3Cdiv%20id%3D%22html_43f58ec3f4244539bfc0590d5793ef26%22%20style%3D%22width%3A%20100.0%25%3B%20height%3A%20100.0%25%3B%22%3E798%3C/div%3E%60%29%5B0%5D%3B%0A%20%20%20%20%20%20%20%20%20%20%20%20popup_f12bafebe2eb48e2a00842b4f43a2480.setContent%28html_43f58ec3f4244539bfc0590d5793ef26%29%3B%0A%20%20%20%20%20%20%20%20%0A%0A%20%20%20%20%20%20%20%20circle_b510911a29494037aebd70fb2c226839.bindPopup%28popup_f12bafebe2eb48e2a00842b4f43a2480%29%0A%20%20%20%20%20%20%20%20%3B%0A%0A%20%20%20%20%20%20%20%20%0A%20%20%20%20%0A%20%20%20%20%0A%20%20%20%20%20%20%20%20%20%20%20%20var%20circle_5520bee7ce934595bc75bd4ebe6fb7a7%20%3D%20L.circle%28%0A%20%20%20%20%20%20%20%20%20%20%20%20%20%20%20%20%5B39.3999%2C%20-8.2245%5D%2C%0A%20%20%20%20%20%20%20%20%20%20%20%20%20%20%20%20%7B%22bubblingMouseEvents%22%3A%20true%2C%20%22color%22%3A%20%22Green%22%2C%20%22dashArray%22%3A%20null%2C%20%22dashOffset%22%3A%20null%2C%20%22fill%22%3A%20true%2C%20%22fillColor%22%3A%20%22Green%22%2C%20%22fillOpacity%22%3A%200.2%2C%20%22fillRule%22%3A%20%22evenodd%22%2C%20%22lineCap%22%3A%20%22round%22%2C%20%22lineJoin%22%3A%20%22round%22%2C%20%22opacity%22%3A%201.0%2C%20%22radius%22%3A%20342520%2C%20%22stroke%22%3A%20true%2C%20%22weight%22%3A%203%7D%0A%20%20%20%20%20%20%20%20%20%20%20%20%29.addTo%28map_576420cabe1e4a719432d018e55b258c%29%3B%0A%20%20%20%20%20%20%20%20%0A%20%20%20%20%0A%20%20%20%20%20%20%20%20var%20popup_b2cac40e429b437180e2ca16f0894109%20%3D%20L.popup%28%7B%22maxWidth%22%3A%20%22100%25%22%7D%29%3B%0A%0A%20%20%20%20%20%20%20%20%0A%20%20%20%20%20%20%20%20%20%20%20%20var%20html_c6677e1fbc974f21bdc53eff38b66b10%20%3D%20%24%28%60%3Cdiv%20id%3D%22html_c6677e1fbc974f21bdc53eff38b66b10%22%20style%3D%22width%3A%20100.0%25%3B%20height%3A%20100.0%25%3B%22%3E17126%3C/div%3E%60%29%5B0%5D%3B%0A%20%20%20%20%20%20%20%20%20%20%20%20popup_b2cac40e429b437180e2ca16f0894109.setContent%28html_c6677e1fbc974f21bdc53eff38b66b10%29%3B%0A%20%20%20%20%20%20%20%20%0A%0A%20%20%20%20%20%20%20%20circle_5520bee7ce934595bc75bd4ebe6fb7a7.bindPopup%28popup_b2cac40e429b437180e2ca16f0894109%29%0A%20%20%20%20%20%20%20%20%3B%0A%0A%20%20%20%20%20%20%20%20%0A%20%20%20%20%0A%20%20%20%20%0A%20%20%20%20%20%20%20%20%20%20%20%20var%20circle_4352fb37d6c64b16badf4c40c4ecf4fa%20%3D%20L.circle%28%0A%20%20%20%20%20%20%20%20%20%20%20%20%20%20%20%20%5B-35.6751%2C%20-71.543%5D%2C%0A%20%20%20%20%20%20%20%20%20%20%20%20%20%20%20%20%7B%22bubblingMouseEvents%22%3A%20true%2C%20%22color%22%3A%20%22Green%22%2C%20%22dashArray%22%3A%20null%2C%20%22dashOffset%22%3A%20null%2C%20%22fill%22%3A%20true%2C%20%22fillColor%22%3A%20%22Green%22%2C%20%22fillOpacity%22%3A%200.2%2C%20%22fillRule%22%3A%20%22evenodd%22%2C%20%22lineCap%22%3A%20%22round%22%2C%20%22lineJoin%22%3A%20%22round%22%2C%20%22opacity%22%3A%201.0%2C%20%22radius%22%3A%20666560%2C%20%22stroke%22%3A%20true%2C%20%22weight%22%3A%203%7D%0A%20%20%20%20%20%20%20%20%20%20%20%20%29.addTo%28map_576420cabe1e4a719432d018e55b258c%29%3B%0A%20%20%20%20%20%20%20%20%0A%20%20%20%20%0A%20%20%20%20%20%20%20%20var%20popup_4d04a41aefee437d858d4a34f3e6f00d%20%3D%20L.popup%28%7B%22maxWidth%22%3A%20%22100%25%22%7D%29%3B%0A%0A%20%20%20%20%20%20%20%20%0A%20%20%20%20%20%20%20%20%20%20%20%20var%20html_c58fb72d2efe4324b90c22ef23d27039%20%3D%20%24%28%60%3Cdiv%20id%3D%22html_c58fb72d2efe4324b90c22ef23d27039%22%20style%3D%22width%3A%20100.0%25%3B%20height%3A%20100.0%25%3B%22%3E33328%3C/div%3E%60%29%5B0%5D%3B%0A%20%20%20%20%20%20%20%20%20%20%20%20popup_4d04a41aefee437d858d4a34f3e6f00d.setContent%28html_c58fb72d2efe4324b90c22ef23d27039%29%3B%0A%20%20%20%20%20%20%20%20%0A%0A%20%20%20%20%20%20%20%20circle_4352fb37d6c64b16badf4c40c4ecf4fa.bindPopup%28popup_4d04a41aefee437d858d4a34f3e6f00d%29%0A%20%20%20%20%20%20%20%20%3B%0A%0A%20%20%20%20%20%20%20%20%0A%20%20%20%20%0A%20%20%20%20%0A%20%20%20%20%20%20%20%20%20%20%20%20var%20circle_7a5bb0e7f022407783c3c6392a249958%20%3D%20L.circle%28%0A%20%20%20%20%20%20%20%20%20%20%20%20%20%20%20%20%5B-18.766947%2C%2046.869107%5D%2C%0A%20%20%20%20%20%20%20%20%20%20%20%20%20%20%20%20%7B%22bubblingMouseEvents%22%3A%20true%2C%20%22color%22%3A%20%22Red%22%2C%20%22dashArray%22%3A%20null%2C%20%22dashOffset%22%3A%20null%2C%20%22fill%22%3A%20true%2C%20%22fillColor%22%3A%20%22Red%22%2C%20%22fillOpacity%22%3A%200.2%2C%20%22fillRule%22%3A%20%22evenodd%22%2C%20%22lineCap%22%3A%20%22round%22%2C%20%22lineJoin%22%3A%20%22round%22%2C%20%22opacity%22%3A%201.0%2C%20%22radius%22%3A%2018520%2C%20%22stroke%22%3A%20true%2C%20%22weight%22%3A%203%7D%0A%20%20%20%20%20%20%20%20%20%20%20%20%29.addTo%28map_576420cabe1e4a719432d018e55b258c%29%3B%0A%20%20%20%20%20%20%20%20%0A%20%20%20%20%0A%20%20%20%20%20%20%20%20var%20popup_adb635dc9d544d219007b007d4e290d2%20%3D%20L.popup%28%7B%22maxWidth%22%3A%20%22100%25%22%7D%29%3B%0A%0A%20%20%20%20%20%20%20%20%0A%20%20%20%20%20%20%20%20%20%20%20%20var%20html_9b2efd90ca544a51ab42be50418bfa60%20%3D%20%24%28%60%3Cdiv%20id%3D%22html_9b2efd90ca544a51ab42be50418bfa60%22%20style%3D%22width%3A%20100.0%25%3B%20height%3A%20100.0%25%3B%22%3E926%3C/div%3E%60%29%5B0%5D%3B%0A%20%20%20%20%20%20%20%20%20%20%20%20popup_adb635dc9d544d219007b007d4e290d2.setContent%28html_9b2efd90ca544a51ab42be50418bfa60%29%3B%0A%20%20%20%20%20%20%20%20%0A%0A%20%20%20%20%20%20%20%20circle_7a5bb0e7f022407783c3c6392a249958.bindPopup%28popup_adb635dc9d544d219007b007d4e290d2%29%0A%20%20%20%20%20%20%20%20%3B%0A%0A%20%20%20%20%20%20%20%20%0A%20%20%20%20%0A%20%20%20%20%0A%20%20%20%20%20%20%20%20%20%20%20%20var%20circle_f0acc6e0138e43d69ea25b364e1a2956%20%3D%20L.circle%28%0A%20%20%20%20%20%20%20%20%20%20%20%20%20%20%20%20%5B3.848%2C%2011.5021%5D%2C%0A%20%20%20%20%20%20%20%20%20%20%20%20%20%20%20%20%7B%22bubblingMouseEvents%22%3A%20true%2C%20%22color%22%3A%20%22Red%22%2C%20%22dashArray%22%3A%20null%2C%20%22dashOffset%22%3A%20null%2C%20%22fill%22%3A%20true%2C%20%22fillColor%22%3A%20%22Red%22%2C%20%22fillOpacity%22%3A%200.2%2C%20%22fillRule%22%3A%20%22evenodd%22%2C%20%22lineCap%22%3A%20%22round%22%2C%20%22lineJoin%22%3A%20%22round%22%2C%20%22opacity%22%3A%201.0%2C%20%22radius%22%3A%2026480%2C%20%22stroke%22%3A%20true%2C%20%22weight%22%3A%203%7D%0A%20%20%20%20%20%20%20%20%20%20%20%20%29.addTo%28map_576420cabe1e4a719432d018e55b258c%29%3B%0A%20%20%20%20%20%20%20%20%0A%20%20%20%20%0A%20%20%20%20%20%20%20%20var%20popup_d864423755144e498727bc89202b076c%20%3D%20L.popup%28%7B%22maxWidth%22%3A%20%22100%25%22%7D%29%3B%0A%0A%20%20%20%20%20%20%20%20%0A%20%20%20%20%20%20%20%20%20%20%20%20var%20html_98ba1f78390d4b77a9817b43f93835a9%20%3D%20%24%28%60%3Cdiv%20id%3D%22html_98ba1f78390d4b77a9817b43f93835a9%22%20style%3D%22width%3A%20100.0%25%3B%20height%3A%20100.0%25%3B%22%3E1324%3C/div%3E%60%29%5B0%5D%3B%0A%20%20%20%20%20%20%20%20%20%20%20%20popup_d864423755144e498727bc89202b076c.setContent%28html_98ba1f78390d4b77a9817b43f93835a9%29%3B%0A%20%20%20%20%20%20%20%20%0A%0A%20%20%20%20%20%20%20%20circle_f0acc6e0138e43d69ea25b364e1a2956.bindPopup%28popup_d864423755144e498727bc89202b076c%29%0A%20%20%20%20%20%20%20%20%3B%0A%0A%20%20%20%20%20%20%20%20%0A%20%20%20%20%0A%20%20%20%20%0A%20%20%20%20%20%20%20%20%20%20%20%20var%20circle_85a3efd403c646829fc31f44f237daa7%20%3D%20L.circle%28%0A%20%20%20%20%20%20%20%20%20%20%20%20%20%20%20%20%5B-6.369028%2C%2034.888822%5D%2C%0A%20%20%20%20%20%20%20%20%20%20%20%20%20%20%20%20%7B%22bubblingMouseEvents%22%3A%20true%2C%20%22color%22%3A%20%22Red%22%2C%20%22dashArray%22%3A%20null%2C%20%22dashOffset%22%3A%20null%2C%20%22fill%22%3A%20true%2C%20%22fillColor%22%3A%20%22Red%22%2C%20%22fillOpacity%22%3A%200.2%2C%20%22fillRule%22%3A%20%22evenodd%22%2C%20%22lineCap%22%3A%20%22round%22%2C%20%22lineJoin%22%3A%20%22round%22%2C%20%22opacity%22%3A%201.0%2C%20%22radius%22%3A%20420%2C%20%22stroke%22%3A%20true%2C%20%22weight%22%3A%203%7D%0A%20%20%20%20%20%20%20%20%20%20%20%20%29.addTo%28map_576420cabe1e4a719432d018e55b258c%29%3B%0A%20%20%20%20%20%20%20%20%0A%20%20%20%20%0A%20%20%20%20%20%20%20%20var%20popup_3d10b39419b24929ad5aac0068c30152%20%3D%20L.popup%28%7B%22maxWidth%22%3A%20%22100%25%22%7D%29%3B%0A%0A%20%20%20%20%20%20%20%20%0A%20%20%20%20%20%20%20%20%20%20%20%20var%20html_f72cc5a8b25a4dd08a350af0792ef486%20%3D%20%24%28%60%3Cdiv%20id%3D%22html_f72cc5a8b25a4dd08a350af0792ef486%22%20style%3D%22width%3A%20100.0%25%3B%20height%3A%20100.0%25%3B%22%3E21%3C/div%3E%60%29%5B0%5D%3B%0A%20%20%20%20%20%20%20%20%20%20%20%20popup_3d10b39419b24929ad5aac0068c30152.setContent%28html_f72cc5a8b25a4dd08a350af0792ef486%29%3B%0A%20%20%20%20%20%20%20%20%0A%0A%20%20%20%20%20%20%20%20circle_85a3efd403c646829fc31f44f237daa7.bindPopup%28popup_3d10b39419b24929ad5aac0068c30152%29%0A%20%20%20%20%20%20%20%20%3B%0A%0A%20%20%20%20%20%20%20%20%0A%20%20%20%20%0A%20%20%20%20%0A%20%20%20%20%20%20%20%20%20%20%20%20var%20circle_f2147c7e2af8461588bd3a40259f20ef%20%3D%20L.circle%28%0A%20%20%20%20%20%20%20%20%20%20%20%20%20%20%20%20%5B18.9712%2C%20-72.2852%5D%2C%0A%20%20%20%20%20%20%20%20%20%20%20%20%20%20%20%20%7B%22bubblingMouseEvents%22%3A%20true%2C%20%22color%22%3A%20%22Red%22%2C%20%22dashArray%22%3A%20null%2C%20%22dashOffset%22%3A%20null%2C%20%22fill%22%3A%20true%2C%20%22fillColor%22%3A%20%22Red%22%2C%20%22fillOpacity%22%3A%200.2%2C%20%22fillRule%22%3A%20%22evenodd%22%2C%20%22lineCap%22%3A%20%22round%22%2C%20%22lineJoin%22%3A%20%22round%22%2C%20%22opacity%22%3A%201.0%2C%20%22radius%22%3A%209340%2C%20%22stroke%22%3A%20true%2C%20%22weight%22%3A%203%7D%0A%20%20%20%20%20%20%20%20%20%20%20%20%29.addTo%28map_576420cabe1e4a719432d018e55b258c%29%3B%0A%20%20%20%20%20%20%20%20%0A%20%20%20%20%0A%20%20%20%20%20%20%20%20var%20popup_dac8f5eaee4349f8924d7562be9d1aff%20%3D%20L.popup%28%7B%22maxWidth%22%3A%20%22100%25%22%7D%29%3B%0A%0A%20%20%20%20%20%20%20%20%0A%20%20%20%20%20%20%20%20%20%20%20%20var%20html_ad6f8d6e987742ee8fb0a90e8d4b4e24%20%3D%20%24%28%60%3Cdiv%20id%3D%22html_ad6f8d6e987742ee8fb0a90e8d4b4e24%22%20style%3D%22width%3A%20100.0%25%3B%20height%3A%20100.0%25%3B%22%3E467%3C/div%3E%60%29%5B0%5D%3B%0A%20%20%20%20%20%20%20%20%20%20%20%20popup_dac8f5eaee4349f8924d7562be9d1aff.setContent%28html_ad6f8d6e987742ee8fb0a90e8d4b4e24%29%3B%0A%20%20%20%20%20%20%20%20%0A%0A%20%20%20%20%20%20%20%20circle_f2147c7e2af8461588bd3a40259f20ef.bindPopup%28popup_dac8f5eaee4349f8924d7562be9d1aff%29%0A%20%20%20%20%20%20%20%20%3B%0A%0A%20%20%20%20%20%20%20%20%0A%20%20%20%20%0A%20%20%20%20%0A%20%20%20%20%20%20%20%20%20%20%20%20var%20circle_a7f73f8d88ee49d18565b4d48ff6ef37%20%3D%20L.circle%28%0A%20%20%20%20%20%20%20%20%20%20%20%20%20%20%20%20%5B15.552727%2C%2048.516388%5D%2C%0A%20%20%20%20%20%20%20%20%20%20%20%20%20%20%20%20%7B%22bubblingMouseEvents%22%3A%20true%2C%20%22color%22%3A%20%22Red%22%2C%20%22dashArray%22%3A%20null%2C%20%22dashOffset%22%3A%20null%2C%20%22fill%22%3A%20true%2C%20%22fillColor%22%3A%20%22Red%22%2C%20%22fillOpacity%22%3A%200.2%2C%20%22fillRule%22%3A%20%22evenodd%22%2C%20%22lineCap%22%3A%20%22round%22%2C%20%22lineJoin%22%3A%20%22round%22%2C%20%22opacity%22%3A%201.0%2C%20%22radius%22%3A%2027280%2C%20%22stroke%22%3A%20true%2C%20%22weight%22%3A%203%7D%0A%20%20%20%20%20%20%20%20%20%20%20%20%29.addTo%28map_576420cabe1e4a719432d018e55b258c%29%3B%0A%20%20%20%20%20%20%20%20%0A%20%20%20%20%0A%20%20%20%20%20%20%20%20var%20popup_f90f40ad77e64ea9ae7279809983255b%20%3D%20L.popup%28%7B%22maxWidth%22%3A%20%22100%25%22%7D%29%3B%0A%0A%20%20%20%20%20%20%20%20%0A%20%20%20%20%20%20%20%20%20%20%20%20var%20html_7ee6cf29dcf7457ba33a99ef33934029%20%3D%20%24%28%60%3Cdiv%20id%3D%22html_7ee6cf29dcf7457ba33a99ef33934029%22%20style%3D%22width%3A%20100.0%25%3B%20height%3A%20100.0%25%3B%22%3E1364%3C/div%3E%60%29%5B0%5D%3B%0A%20%20%20%20%20%20%20%20%20%20%20%20popup_f90f40ad77e64ea9ae7279809983255b.setContent%28html_7ee6cf29dcf7457ba33a99ef33934029%29%3B%0A%20%20%20%20%20%20%20%20%0A%0A%20%20%20%20%20%20%20%20circle_a7f73f8d88ee49d18565b4d48ff6ef37.bindPopup%28popup_f90f40ad77e64ea9ae7279809983255b%29%0A%20%20%20%20%20%20%20%20%3B%0A%0A%20%20%20%20%20%20%20%20%0A%20%20%20%20%0A%3C/script%3E onload=\"this.contentDocument.open();this.contentDocument.write(    decodeURIComponent(this.getAttribute('data-html')));this.contentDocument.close();\" allowfullscreen webkitallowfullscreen mozallowfullscreen></iframe></div></div>"
      ],
      "text/plain": [
       "<folium.folium.Map at 0x7fe13f69ea60>"
      ]
     },
     "execution_count": 28,
     "metadata": {},
     "output_type": "execute_result"
    }
   ],
   "source": [
    "#Plot The  number of Confirmed deaths in Top vaccinated Countries (Green) and Least Vaccinated Countries (Crimson)\n",
    "\n",
    "# Make an empty map\n",
    "m = folium.Map(location=[20,0], tiles=\"OpenStreetMap\", zoom_start=2.1)\n",
    "\n",
    "# add marker one by one on the map\n",
    "for i in range(0,len(VaccinatedDataTop)):\n",
    "   folium.Marker(\n",
    "      location=[VaccinatedDataTop.iloc[i]['Lat'], VaccinatedDataTop.iloc[i]['Long']],\n",
    "      popup=VaccinatedDataTop.iloc[i]['Country'],\n",
    "      \n",
    "   ).add_to(m)\n",
    "# add marker one by one on the map\n",
    "for i in range(0,len(VaccinatedDataBottom)):\n",
    "   folium.Marker(\n",
    "      location=[VaccinatedDataBottom.iloc[i]['Lat'], VaccinatedDataBottom.iloc[i]['Long']],\n",
    "      popup=VaccinatedDataBottom.iloc[i]['Country'],\n",
    "      \n",
    "   ).add_to(m)\n",
    "\n",
    "\n",
    "\n",
    "#marking number of deaths\n",
    "for i in range(0,len(VaccinatedDataTop)):\n",
    "   folium.Circle(\n",
    "      location=[VaccinatedDataTop.iloc[i]['Lat'], VaccinatedDataTop.iloc[i]['Long']],\n",
    "      popup=VaccinatedDataTop.iloc[i]['Confirmed Deaths'],\n",
    "      radius=int(VaccinatedDataTop.iloc[i]['Confirmed Deaths'])*20,\n",
    "      color='Green',\n",
    "      fill=True,\n",
    "      fill_color='Green'\n",
    "   ).add_to(m)\n",
    "\n",
    "for i in range(0,len(VaccinatedDataBottom)):\n",
    "   folium.Circle(\n",
    "      location=[VaccinatedDataBottom.iloc[i]['Lat'], VaccinatedDataBottom.iloc[i]['Long']],\n",
    "      popup=VaccinatedDataBottom.iloc[i]['Confirmed Deaths'],\n",
    "      radius=int(VaccinatedDataBottom.iloc[i]['Confirmed Deaths'])*20,\n",
    "      color='Red',\n",
    "      fill=True,\n",
    "      fill_color='Red'\n",
    "   ).add_to(m)\n",
    "\n",
    "# Show the map again\n",
    "m\n",
    "\n"
   ]
  },
  {
   "cell_type": "markdown",
   "id": "8175c30f",
   "metadata": {},
   "source": [
    "\n",
    "**general observations** - \n",
    "<p> <font color=\"navy\">\n",
    "    We can clearly visualise for which Countries have got more deaths and in which regions as compared to the rest by observing the high density areas on the plot. "
   ]
  },
  {
   "cell_type": "code",
   "execution_count": 29,
   "id": "b7711b62",
   "metadata": {},
   "outputs": [
    {
     "data": {
      "image/png": "[encoded data removed]",
      "text/plain": [
       "<Figure size 432x288 with 1 Axes>"
      ]
     },
     "metadata": {},
     "output_type": "display_data"
    },
    {
     "data": {
      "image/png": "[encoded data removed]",
      "text/plain": [
       "<Figure size 432x288 with 1 Axes>"
      ]
     },
     "metadata": {},
     "output_type": "display_data"
    }
   ],
   "source": [
    "# Representing the percentages of Confirmed Cases and Confirmed deaths in Highly Vaccinated Countries\n",
    "\n",
    "import numpy as np\n",
    "from matplotlib import pyplot as plt\n",
    "from matplotlib.pyplot import pie, axis, show\n",
    "\n",
    "\n",
    "mylabels = [\"United Arab Emirates\", \"Argentina\", \"Cambodia\", \"Portugal\",\"Chile\"]\n",
    "myexplode = [0.1, 0.3, 0.1, 0.1,0.1]\n",
    "plt.pie(VaccinatedDataTop['Confirmed Cases'],autopct='%1.1f%%',labels=mylabels, explode = myexplode,shadow=True, startangle=140)\n",
    "\n",
    "plt.legend(VaccinatedDataTop['Country'].unique(),bbox_to_anchor=(0.00, 1),title = \"Country:\")\n",
    "plt.axis('equal')\n",
    "plt.title('Confirmed Cases in Highly vaccinated countries')\n",
    "plt.show()\n",
    "\n",
    "plt.pie(VaccinatedDataTop['Confirmed Deaths'],autopct='%1.1f%%',labels=mylabels, explode = myexplode,shadow=True, startangle=140)\n",
    "\n",
    "plt.legend(VaccinatedDataTop['Country'].unique(),bbox_to_anchor=(0.00, 1),title = \"Country:\")\n",
    "plt.axis('equal')\n",
    "plt.title('Confirmed Deaths in Highly vaccinated countries')\n",
    "plt.show()"
   ]
  },
  {
   "cell_type": "markdown",
   "id": "232f9c09",
   "metadata": {},
   "source": [
    "\n",
    "**general observations** - \n",
    "<p> <font color=\"navy\">\n",
    "   Considering the pie charts for both confirmed deaths and confirmed cases in top 5 vaccinated countries;<br/>\n",
    "    1.  Argentina has the highest percentage of cases and deaths.<br/>\n",
    "    2.  Cambodia has least percentage of  of cases and deaths"
   ]
  },
  {
   "cell_type": "code",
   "execution_count": 30,
   "id": "3b66b517",
   "metadata": {},
   "outputs": [
    {
     "data": {
      "image/png": "[encoded data removed]",
      "text/plain": [
       "<Figure size 720x720 with 1 Axes>"
      ]
     },
     "metadata": {
      "needs_background": "light"
     },
     "output_type": "display_data"
    }
   ],
   "source": [
    "#Bar chart for highly vaccinated countries\n",
    "df=pd.DataFrame(VaccinatedDataTop,columns=[\"Country\",\"Confirmed Cases\",\"Confirmed Deaths\"])\n",
    "df.plot(x=\"Country\", y=[\"Confirmed Cases\",\"Confirmed Deaths\"], kind=\"bar\",figsize=(10,10))\n",
    "plt.yscale(\"log\")\n",
    "plt.show()"
   ]
  },
  {
   "cell_type": "code",
   "execution_count": 31,
   "id": "4f9359ac",
   "metadata": {},
   "outputs": [
    {
     "data": {
      "text/html": [
       "<div>\n",
       "<style scoped>\n",
       "    .dataframe tbody tr th:only-of-type {\n",
       "        vertical-align: middle;\n",
       "    }\n",
       "\n",
       "    .dataframe tbody tr th {\n",
       "        vertical-align: top;\n",
       "    }\n",
       "\n",
       "    .dataframe thead th {\n",
       "        text-align: right;\n",
       "    }\n",
       "</style>\n",
       "<table border=\"1\" class=\"dataframe\">\n",
       "  <thead>\n",
       "    <tr style=\"text-align: right;\">\n",
       "      <th></th>\n",
       "      <th>Lat</th>\n",
       "      <th>Long</th>\n",
       "      <th>Confirmed Cases</th>\n",
       "      <th>Confirmed Deaths</th>\n",
       "    </tr>\n",
       "  </thead>\n",
       "  <tbody>\n",
       "    <tr>\n",
       "      <th>Lat</th>\n",
       "      <td>1.000000</td>\n",
       "      <td>0.666016</td>\n",
       "      <td>-0.722675</td>\n",
       "      <td>-0.747866</td>\n",
       "    </tr>\n",
       "    <tr>\n",
       "      <th>Long</th>\n",
       "      <td>0.666016</td>\n",
       "      <td>1.000000</td>\n",
       "      <td>-0.729286</td>\n",
       "      <td>-0.742362</td>\n",
       "    </tr>\n",
       "    <tr>\n",
       "      <th>Confirmed Cases</th>\n",
       "      <td>-0.722675</td>\n",
       "      <td>-0.729286</td>\n",
       "      <td>1.000000</td>\n",
       "      <td>0.992875</td>\n",
       "    </tr>\n",
       "    <tr>\n",
       "      <th>Confirmed Deaths</th>\n",
       "      <td>-0.747866</td>\n",
       "      <td>-0.742362</td>\n",
       "      <td>0.992875</td>\n",
       "      <td>1.000000</td>\n",
       "    </tr>\n",
       "  </tbody>\n",
       "</table>\n",
       "</div>"
      ],
      "text/plain": [
       "                       Lat      Long  Confirmed Cases  Confirmed Deaths\n",
       "Lat               1.000000  0.666016        -0.722675         -0.747866\n",
       "Long              0.666016  1.000000        -0.729286         -0.742362\n",
       "Confirmed Cases  -0.722675 -0.729286         1.000000          0.992875\n",
       "Confirmed Deaths -0.747866 -0.742362         0.992875          1.000000"
      ]
     },
     "execution_count": 31,
     "metadata": {},
     "output_type": "execute_result"
    }
   ],
   "source": [
    "VaccinatedDataTop.corr()"
   ]
  },
  {
   "cell_type": "code",
   "execution_count": 32,
   "id": "33e5f5ee",
   "metadata": {},
   "outputs": [
    {
     "data": {
      "text/plain": [
       "0.9928752740156914"
      ]
     },
     "execution_count": 32,
     "metadata": {},
     "output_type": "execute_result"
    }
   ],
   "source": [
    "correlation = VaccinatedDataTop[\"Confirmed Cases\"].corr(VaccinatedDataTop[\"Confirmed Deaths\"])\n",
    "\n",
    "correlation "
   ]
  },
  {
   "cell_type": "markdown",
   "id": "2b8e7555",
   "metadata": {},
   "source": [
    "\n",
    "**general observations** - \n",
    "<p> <font color=\"navy\">There is a strong positive correlation between Confirmed cases and deaths in highly vaccinated countries. We can neglect Longitudes and Latitudes as they are not essential for any future analysis</i>"
   ]
  },
  {
   "cell_type": "code",
   "execution_count": 33,
   "id": "14d36ae1",
   "metadata": {},
   "outputs": [
    {
     "data": {
      "text/plain": [
       "Text(0.5, 1.0, 'Correlation matrix of Highly Vaccinated Countries')"
      ]
     },
     "execution_count": 33,
     "metadata": {},
     "output_type": "execute_result"
    },
    {
     "data": {
      "image/png": "[encoded data removed]",
      "text/plain": [
       "<Figure size 432x288 with 2 Axes>"
      ]
     },
     "metadata": {
      "needs_background": "light"
     },
     "output_type": "display_data"
    }
   ],
   "source": [
    "import seaborn as sns\n",
    "# Correlation between different variables\n",
    "\n",
    "Var_Corr = VaccinatedDataTop.corr()\n",
    "# plot the heatmap and annotation on it\n",
    "sns.heatmap(Var_Corr, xticklabels=Var_Corr.columns, yticklabels=Var_Corr.columns, annot=True)\n",
    "\n",
    "plt.title(\"Correlation matrix of Highly Vaccinated Countries\")"
   ]
  },
  {
   "cell_type": "code",
   "execution_count": 34,
   "id": "1ef3acf3",
   "metadata": {},
   "outputs": [
    {
     "data": {
      "text/plain": [
       "<AxesSubplot:xlabel='Confirmed Cases', ylabel='Confirmed Deaths'>"
      ]
     },
     "execution_count": 34,
     "metadata": {},
     "output_type": "execute_result"
    },
    {
     "data": {
      "image/png": "[encoded data removed]",
      "text/plain": [
       "<Figure size 432x288 with 1 Axes>"
      ]
     },
     "metadata": {
      "needs_background": "light"
     },
     "output_type": "display_data"
    }
   ],
   "source": [
    "import seaborn as sns\n",
    "\n",
    "# use the function regplot to make a scatterplot\n",
    "sns.regplot(x=VaccinatedDataTop[\"Confirmed Cases\"], y=VaccinatedDataTop[\"Confirmed Deaths\"])\n"
   ]
  },
  {
   "cell_type": "code",
   "execution_count": 37,
   "id": "ae9667fc",
   "metadata": {},
   "outputs": [
    {
     "data": {
      "image/png": "[encoded data removed]",
      "text/plain": [
       "<Figure size 432x288 with 1 Axes>"
      ]
     },
     "metadata": {},
     "output_type": "display_data"
    },
    {
     "data": {
      "image/png": "[encoded data removed]",
      "text/plain": [
       "<Figure size 432x288 with 1 Axes>"
      ]
     },
     "metadata": {},
     "output_type": "display_data"
    }
   ],
   "source": [
    "# Representing the percentages of Confirmed Cases and Confirmed deaths in Lowest Vaccinated Countries\n",
    "\n",
    "\n",
    "mylabels = [\"Madagascar\", \"Cameroom\", \"Tanzania\", \"Haiti\",\"Yemen\"]\n",
    "myexplode = [0.1, 0.3, 0.1, 0.1,0.1]\n",
    "plt.pie(VaccinatedDataBottom['Confirmed Cases'],autopct='%1.1f%%',labels=mylabels, explode = myexplode,shadow=True, startangle=140)\n",
    "\n",
    "plt.legend(VaccinatedDataBottom['Country'].unique(),bbox_to_anchor=(0.00, 1),title = \"Country:\")\n",
    "plt.axis('equal')\n",
    "plt.title('Confirmed Cases in Lowest vaccinated countries')\n",
    "plt.show()\n",
    "\n",
    "plt.pie(VaccinatedDataBottom['Confirmed Deaths'],autopct='%1.1f%%',labels=mylabels, explode = myexplode,shadow=True, startangle=140)\n",
    "\n",
    "plt.legend(VaccinatedDataBottom['Country'].unique(),bbox_to_anchor=(0.00, 1),title = \"Country:\")\n",
    "plt.axis('equal')\n",
    "plt.title('Confirmed Deaths in Lowest vaccinated countries')\n",
    "plt.show()"
   ]
  },
  {
   "cell_type": "markdown",
   "id": "1b64d402",
   "metadata": {},
   "source": [
    "\n",
    "**general observations** - \n",
    "<p> <font color=\"navy\">\n",
    "   Considering the pie charts for both confirmed deaths and confirmed cases in least ranked 5 vaccinated countries;<br/>\n",
    "    1.  Cameroon has the highest  percentage of  cases but Yemen has the highest  percentage of deaths.<br/>\n",
    "    2.  Yemen has a low  percentage of confirmed cases but higher  percentage of  confirmed deaths"
   ]
  },
  {
   "cell_type": "code",
   "execution_count": 38,
   "id": "6a4e6637",
   "metadata": {},
   "outputs": [
    {
     "data": {
      "image/png": "[encoded data removed]",
      "text/plain": [
       "<Figure size 720x720 with 1 Axes>"
      ]
     },
     "metadata": {
      "needs_background": "light"
     },
     "output_type": "display_data"
    }
   ],
   "source": [
    "#Bar chart for least ranked vaccinated countries\n",
    "df=pd.DataFrame(VaccinatedDataBottom,columns=[\"Country\",\"Confirmed Cases\",\"Confirmed Deaths\"])\n",
    "df.plot(x=\"Country\", y=[\"Confirmed Cases\",\"Confirmed Deaths\"], kind=\"bar\",figsize=(10,10))\n",
    "# taking log values since the values are too small to plot\n",
    "plt.yscale(\"log\")\n",
    "plt.show()"
   ]
  },
  {
   "cell_type": "code",
   "execution_count": 39,
   "id": "2d1747fb",
   "metadata": {},
   "outputs": [
    {
     "data": {
      "text/html": [
       "<div>\n",
       "<style scoped>\n",
       "    .dataframe tbody tr th:only-of-type {\n",
       "        vertical-align: middle;\n",
       "    }\n",
       "\n",
       "    .dataframe tbody tr th {\n",
       "        vertical-align: top;\n",
       "    }\n",
       "\n",
       "    .dataframe thead th {\n",
       "        text-align: right;\n",
       "    }\n",
       "</style>\n",
       "<table border=\"1\" class=\"dataframe\">\n",
       "  <thead>\n",
       "    <tr style=\"text-align: right;\">\n",
       "      <th></th>\n",
       "      <th>Lat</th>\n",
       "      <th>Long</th>\n",
       "      <th>Confirmed Cases</th>\n",
       "      <th>Confirmed Deaths</th>\n",
       "    </tr>\n",
       "  </thead>\n",
       "  <tbody>\n",
       "    <tr>\n",
       "      <th>Lat</th>\n",
       "      <td>1.000000</td>\n",
       "      <td>-0.590639</td>\n",
       "      <td>-0.202320</td>\n",
       "      <td>0.189244</td>\n",
       "    </tr>\n",
       "    <tr>\n",
       "      <th>Long</th>\n",
       "      <td>-0.590639</td>\n",
       "      <td>1.000000</td>\n",
       "      <td>-0.030217</td>\n",
       "      <td>0.299781</td>\n",
       "    </tr>\n",
       "    <tr>\n",
       "      <th>Confirmed Cases</th>\n",
       "      <td>-0.202320</td>\n",
       "      <td>-0.030217</td>\n",
       "      <td>1.000000</td>\n",
       "      <td>0.556388</td>\n",
       "    </tr>\n",
       "    <tr>\n",
       "      <th>Confirmed Deaths</th>\n",
       "      <td>0.189244</td>\n",
       "      <td>0.299781</td>\n",
       "      <td>0.556388</td>\n",
       "      <td>1.000000</td>\n",
       "    </tr>\n",
       "  </tbody>\n",
       "</table>\n",
       "</div>"
      ],
      "text/plain": [
       "                       Lat      Long  Confirmed Cases  Confirmed Deaths\n",
       "Lat               1.000000 -0.590639        -0.202320          0.189244\n",
       "Long             -0.590639  1.000000        -0.030217          0.299781\n",
       "Confirmed Cases  -0.202320 -0.030217         1.000000          0.556388\n",
       "Confirmed Deaths  0.189244  0.299781         0.556388          1.000000"
      ]
     },
     "execution_count": 39,
     "metadata": {},
     "output_type": "execute_result"
    }
   ],
   "source": [
    "VaccinatedDataBottom.corr()"
   ]
  },
  {
   "cell_type": "code",
   "execution_count": 40,
   "id": "90ae9998",
   "metadata": {},
   "outputs": [
    {
     "data": {
      "text/plain": [
       "0.5563878760724587"
      ]
     },
     "execution_count": 40,
     "metadata": {},
     "output_type": "execute_result"
    }
   ],
   "source": [
    "correlation = VaccinatedDataBottom[\"Confirmed Cases\"].corr(VaccinatedDataBottom[\"Confirmed Deaths\"])\n",
    "\n",
    "correlation "
   ]
  },
  {
   "cell_type": "markdown",
   "id": "3b6ad550",
   "metadata": {},
   "source": [
    "\n",
    "**general observations** - \n",
    "<p> <font color=\"navy\">There is a positive correlation between Confirmed cases and deaths in least vaccinated countries"
   ]
  },
  {
   "cell_type": "code",
   "execution_count": 41,
   "id": "34a241b8",
   "metadata": {},
   "outputs": [
    {
     "data": {
      "text/plain": [
       "<AxesSubplot:>"
      ]
     },
     "execution_count": 41,
     "metadata": {},
     "output_type": "execute_result"
    },
    {
     "data": {
      "image/png": "[encoded data removed]",
      "text/plain": [
       "<Figure size 432x288 with 2 Axes>"
      ]
     },
     "metadata": {
      "needs_background": "light"
     },
     "output_type": "display_data"
    }
   ],
   "source": [
    "import seaborn as sns\n",
    "# Correlation between different variables\n",
    "\n",
    "Var_Corr = VaccinatedDataBottom.corr()\n",
    "# plot the heatmap and annotation on it\n",
    "sns.heatmap(Var_Corr, xticklabels=Var_Corr.columns, yticklabels=Var_Corr.columns, annot=True)"
   ]
  },
  {
   "cell_type": "code",
   "execution_count": 42,
   "id": "38d329d9",
   "metadata": {},
   "outputs": [
    {
     "data": {
      "text/plain": [
       "<AxesSubplot:xlabel='Confirmed Cases', ylabel='Confirmed Deaths'>"
      ]
     },
     "execution_count": 42,
     "metadata": {},
     "output_type": "execute_result"
    },
    {
     "data": {
      "image/png": "[encoded data removed]",
      "text/plain": [
       "<Figure size 432x288 with 1 Axes>"
      ]
     },
     "metadata": {
      "needs_background": "light"
     },
     "output_type": "display_data"
    }
   ],
   "source": [
    "import seaborn as sns\n",
    "\n",
    "# use the function regplot to make a scatterplot\n",
    "sns.regplot(x=VaccinatedDataBottom[\"Confirmed Cases\"], y=VaccinatedDataTop[\"Confirmed Deaths\"])\n"
   ]
  },
  {
   "cell_type": "markdown",
   "id": "605dfe63",
   "metadata": {},
   "source": [
    "### <font color = blue> Scaling <br/> Scale all the three dataframes</font> <br>"
   ]
  },
  {
   "cell_type": "code",
   "execution_count": 54,
   "id": "f9716016",
   "metadata": {},
   "outputs": [
    {
     "data": {
      "text/plain": [
       "array([[-0.56963454, -0.79175793],\n",
       "       [ 1.9044905 ,  1.88637784],\n",
       "       [-0.93734788, -0.82114704],\n",
       "       [-0.41183272, -0.36369662],\n",
       "       [ 0.01432464,  0.09022375]])"
      ]
     },
     "execution_count": 54,
     "metadata": {},
     "output_type": "execute_result"
    }
   ],
   "source": [
    "from sklearn.preprocessing import StandardScaler as ss\n",
    "\n",
    "#Scaling VaccinatedDataTop\n",
    "\n",
    "\n",
    "ScaledTop = VaccinatedDataTop[['Confirmed Cases', 'Confirmed Deaths']].copy()\n",
    "ScaledTop.head()\n",
    "ScaledTop= ss().fit_transform(ScaledTop)\n",
    "ScaledTop"
   ]
  },
  {
   "cell_type": "code",
   "execution_count": 55,
   "id": "28bee80c",
   "metadata": {},
   "outputs": [
    {
     "data": {
      "text/html": [
       "<div>\n",
       "<style scoped>\n",
       "    .dataframe tbody tr th:only-of-type {\n",
       "        vertical-align: middle;\n",
       "    }\n",
       "\n",
       "    .dataframe tbody tr th {\n",
       "        vertical-align: top;\n",
       "    }\n",
       "\n",
       "    .dataframe thead th {\n",
       "        text-align: right;\n",
       "    }\n",
       "</style>\n",
       "<table border=\"1\" class=\"dataframe\">\n",
       "  <thead>\n",
       "    <tr style=\"text-align: right;\">\n",
       "      <th></th>\n",
       "      <th>Confirmed Cases</th>\n",
       "      <th>Confirmed Deaths</th>\n",
       "    </tr>\n",
       "  </thead>\n",
       "  <tbody>\n",
       "    <tr>\n",
       "      <th>257</th>\n",
       "      <td>-0.569635</td>\n",
       "      <td>-0.791758</td>\n",
       "    </tr>\n",
       "    <tr>\n",
       "      <th>6</th>\n",
       "      <td>1.904490</td>\n",
       "      <td>1.886378</td>\n",
       "    </tr>\n",
       "    <tr>\n",
       "      <th>37</th>\n",
       "      <td>-0.937348</td>\n",
       "      <td>-0.821147</td>\n",
       "    </tr>\n",
       "    <tr>\n",
       "      <th>214</th>\n",
       "      <td>-0.411833</td>\n",
       "      <td>-0.363697</td>\n",
       "    </tr>\n",
       "    <tr>\n",
       "      <th>57</th>\n",
       "      <td>0.014325</td>\n",
       "      <td>0.090224</td>\n",
       "    </tr>\n",
       "  </tbody>\n",
       "</table>\n",
       "</div>"
      ],
      "text/plain": [
       "     Confirmed Cases  Confirmed Deaths\n",
       "257        -0.569635         -0.791758\n",
       "6           1.904490          1.886378\n",
       "37         -0.937348         -0.821147\n",
       "214        -0.411833         -0.363697\n",
       "57          0.014325          0.090224"
      ]
     },
     "execution_count": 55,
     "metadata": {},
     "output_type": "execute_result"
    }
   ],
   "source": [
    "#converting to a dataframe\n",
    "VDT = pd.DataFrame(ScaledTop, index = VaccinatedDataTop.index, \n",
    "                      columns = ['Confirmed Cases', 'Confirmed Deaths'])\n",
    "VDT.head()\n"
   ]
  },
  {
   "cell_type": "code",
   "execution_count": 56,
   "id": "e22f64ee",
   "metadata": {},
   "outputs": [
    {
     "data": {
      "text/html": [
       "<div>\n",
       "<style scoped>\n",
       "    .dataframe tbody tr th:only-of-type {\n",
       "        vertical-align: middle;\n",
       "    }\n",
       "\n",
       "    .dataframe tbody tr th {\n",
       "        vertical-align: top;\n",
       "    }\n",
       "\n",
       "    .dataframe thead th {\n",
       "        text-align: right;\n",
       "    }\n",
       "</style>\n",
       "<table border=\"1\" class=\"dataframe\">\n",
       "  <thead>\n",
       "    <tr style=\"text-align: right;\">\n",
       "      <th></th>\n",
       "      <th>Confirmed Cases</th>\n",
       "      <th>Confirmed Deaths</th>\n",
       "      <th>Country</th>\n",
       "    </tr>\n",
       "  </thead>\n",
       "  <tbody>\n",
       "    <tr>\n",
       "      <th>257</th>\n",
       "      <td>-0.569635</td>\n",
       "      <td>-0.791758</td>\n",
       "      <td>United Arab Emirates</td>\n",
       "    </tr>\n",
       "    <tr>\n",
       "      <th>6</th>\n",
       "      <td>1.904490</td>\n",
       "      <td>1.886378</td>\n",
       "      <td>Argentina</td>\n",
       "    </tr>\n",
       "    <tr>\n",
       "      <th>37</th>\n",
       "      <td>-0.937348</td>\n",
       "      <td>-0.821147</td>\n",
       "      <td>Cambodia</td>\n",
       "    </tr>\n",
       "    <tr>\n",
       "      <th>214</th>\n",
       "      <td>-0.411833</td>\n",
       "      <td>-0.363697</td>\n",
       "      <td>Portugal</td>\n",
       "    </tr>\n",
       "    <tr>\n",
       "      <th>57</th>\n",
       "      <td>0.014325</td>\n",
       "      <td>0.090224</td>\n",
       "      <td>Chile</td>\n",
       "    </tr>\n",
       "  </tbody>\n",
       "</table>\n",
       "</div>"
      ],
      "text/plain": [
       "     Confirmed Cases  Confirmed Deaths               Country\n",
       "257        -0.569635         -0.791758  United Arab Emirates\n",
       "6           1.904490          1.886378             Argentina\n",
       "37         -0.937348         -0.821147              Cambodia\n",
       "214        -0.411833         -0.363697              Portugal\n",
       "57          0.014325          0.090224                 Chile"
      ]
     },
     "execution_count": 56,
     "metadata": {},
     "output_type": "execute_result"
    }
   ],
   "source": [
    "# Scaled Dataframe for the Highly Vaccinated Countries\n",
    "#VDT\n",
    "import io\n",
    "VDT['Country'] = pd.Series(VaccinatedDataTop['Country'])\n",
    "VDT.head()"
   ]
  },
  {
   "cell_type": "code",
   "execution_count": 57,
   "id": "afeb017e",
   "metadata": {},
   "outputs": [
    {
     "data": {
      "text/plain": [
       "array([[ 0.42462302,  0.20519775],\n",
       "       [ 1.74388141,  0.97857562],\n",
       "       [-1.00939373, -1.55336249],\n",
       "       [-0.36987893, -0.68671291],\n",
       "       [-0.78923177,  1.05630204]])"
      ]
     },
     "execution_count": 57,
     "metadata": {},
     "output_type": "execute_result"
    }
   ],
   "source": [
    "#Scaling VaccinatedDataBottom\n",
    "\n",
    "\n",
    "ScaledBottom = VaccinatedDataBottom[['Confirmed Cases', 'Confirmed Deaths']].copy()\n",
    "ScaledBottom.head()\n",
    "ScaledBottom= ss().fit_transform(ScaledBottom)\n",
    "ScaledBottom"
   ]
  }
 ],
 "metadata": {
  "kernelspec": {
   "display_name": "Python 3 (ipykernel)",
   "language": "python",
   "name": "python3"
  },
  "language_info": {
   "codemirror_mode": {
    "name": "ipython",
    "version": 3
   },
   "file_extension": ".py",
   "mimetype": "text/x-python",
   "name": "python",
   "nbconvert_exporter": "python",
   "pygments_lexer": "ipython3",
   "version": "3.9.7"
  }
 },
 "nbformat": 4,
 "nbformat_minor": 5
}
